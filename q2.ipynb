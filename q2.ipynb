{
 "cells": [
  {
   "cell_type": "code",
   "execution_count": 874,
   "metadata": {},
   "outputs": [],
   "source": [
    "import pandas as pd\n",
    "import numpy as np\n",
    "import matplotlib.pyplot as plt\n",
    "from sklearn.linear_model import LinearRegression\n",
    "import seaborn as sns\n",
    "from sklearn.preprocessing import PolynomialFeatures\n",
    "from sklearn import metrics\n",
    "from sklearn.tree import DecisionTreeRegressor\n",
    "from sklearn.model_selection import cross_val_score\n",
    "from sklearn.ensemble import RandomForestRegressor\n",
    "from sklearn.model_selection import train_test_split"
   ]
  },
  {
   "cell_type": "code",
   "execution_count": 875,
   "metadata": {
    "collapsed": true
   },
   "outputs": [],
   "source": [
    "data = pd.read_csv('problem_2_train.csv')"
   ]
  },
  {
   "cell_type": "code",
   "execution_count": 876,
   "metadata": {},
   "outputs": [
    {
     "data": {
      "text/html": [
       "<div>\n",
       "<style>\n",
       "    .dataframe thead tr:only-child th {\n",
       "        text-align: right;\n",
       "    }\n",
       "\n",
       "    .dataframe thead th {\n",
       "        text-align: left;\n",
       "    }\n",
       "\n",
       "    .dataframe tbody tr th {\n",
       "        vertical-align: top;\n",
       "    }\n",
       "</style>\n",
       "<table border=\"1\" class=\"dataframe\">\n",
       "  <thead>\n",
       "    <tr style=\"text-align: right;\">\n",
       "      <th></th>\n",
       "      <th>srno</th>\n",
       "      <th>hubid</th>\n",
       "      <th>hubpincode</th>\n",
       "      <th>pickuppartnerid</th>\n",
       "      <th>deliverypartnerid</th>\n",
       "      <th>insuranceCompanyId</th>\n",
       "      <th>custpincode</th>\n",
       "      <th>servicecntrid</th>\n",
       "      <th>tat_in_days</th>\n",
       "    </tr>\n",
       "  </thead>\n",
       "  <tbody>\n",
       "    <tr>\n",
       "      <th>count</th>\n",
       "      <td>6.250000e+03</td>\n",
       "      <td>6250.000000</td>\n",
       "      <td>6250.000000</td>\n",
       "      <td>6250.000000</td>\n",
       "      <td>6250.000000</td>\n",
       "      <td>6250.000000</td>\n",
       "      <td>6250.000000</td>\n",
       "      <td>6250.000000</td>\n",
       "      <td>6250.000000</td>\n",
       "    </tr>\n",
       "    <tr>\n",
       "      <th>mean</th>\n",
       "      <td>2.946134e+06</td>\n",
       "      <td>11.732000</td>\n",
       "      <td>340546.139840</td>\n",
       "      <td>232.654400</td>\n",
       "      <td>231.495360</td>\n",
       "      <td>155.040480</td>\n",
       "      <td>366009.473440</td>\n",
       "      <td>4457.158080</td>\n",
       "      <td>12.730400</td>\n",
       "    </tr>\n",
       "    <tr>\n",
       "      <th>std</th>\n",
       "      <td>7.733480e+04</td>\n",
       "      <td>9.141463</td>\n",
       "      <td>213449.097822</td>\n",
       "      <td>30.471658</td>\n",
       "      <td>22.521945</td>\n",
       "      <td>41.883918</td>\n",
       "      <td>210990.167946</td>\n",
       "      <td>200.945634</td>\n",
       "      <td>5.075533</td>\n",
       "    </tr>\n",
       "    <tr>\n",
       "      <th>min</th>\n",
       "      <td>2.818359e+06</td>\n",
       "      <td>0.000000</td>\n",
       "      <td>0.000000</td>\n",
       "      <td>0.000000</td>\n",
       "      <td>0.000000</td>\n",
       "      <td>131.000000</td>\n",
       "      <td>0.000000</td>\n",
       "      <td>4008.000000</td>\n",
       "      <td>2.000000</td>\n",
       "    </tr>\n",
       "    <tr>\n",
       "      <th>25%</th>\n",
       "      <td>2.877226e+06</td>\n",
       "      <td>3.000000</td>\n",
       "      <td>110018.000000</td>\n",
       "      <td>233.000000</td>\n",
       "      <td>233.000000</td>\n",
       "      <td>131.000000</td>\n",
       "      <td>135034.000000</td>\n",
       "      <td>4398.000000</td>\n",
       "      <td>9.000000</td>\n",
       "    </tr>\n",
       "    <tr>\n",
       "      <th>50%</th>\n",
       "      <td>2.944426e+06</td>\n",
       "      <td>8.000000</td>\n",
       "      <td>400001.000000</td>\n",
       "      <td>233.000000</td>\n",
       "      <td>233.000000</td>\n",
       "      <td>131.000000</td>\n",
       "      <td>395001.500000</td>\n",
       "      <td>4474.000000</td>\n",
       "      <td>12.000000</td>\n",
       "    </tr>\n",
       "    <tr>\n",
       "      <th>75%</th>\n",
       "      <td>3.012237e+06</td>\n",
       "      <td>21.000000</td>\n",
       "      <td>500004.000000</td>\n",
       "      <td>233.000000</td>\n",
       "      <td>233.000000</td>\n",
       "      <td>131.000000</td>\n",
       "      <td>560016.000000</td>\n",
       "      <td>4580.000000</td>\n",
       "      <td>15.000000</td>\n",
       "    </tr>\n",
       "    <tr>\n",
       "      <th>max</th>\n",
       "      <td>3.101035e+06</td>\n",
       "      <td>27.000000</td>\n",
       "      <td>800001.000000</td>\n",
       "      <td>308.000000</td>\n",
       "      <td>245.000000</td>\n",
       "      <td>228.000000</td>\n",
       "      <td>855107.000000</td>\n",
       "      <td>5146.000000</td>\n",
       "      <td>57.000000</td>\n",
       "    </tr>\n",
       "  </tbody>\n",
       "</table>\n",
       "</div>"
      ],
      "text/plain": [
       "               srno        hubid     hubpincode  pickuppartnerid  \\\n",
       "count  6.250000e+03  6250.000000    6250.000000      6250.000000   \n",
       "mean   2.946134e+06    11.732000  340546.139840       232.654400   \n",
       "std    7.733480e+04     9.141463  213449.097822        30.471658   \n",
       "min    2.818359e+06     0.000000       0.000000         0.000000   \n",
       "25%    2.877226e+06     3.000000  110018.000000       233.000000   \n",
       "50%    2.944426e+06     8.000000  400001.000000       233.000000   \n",
       "75%    3.012237e+06    21.000000  500004.000000       233.000000   \n",
       "max    3.101035e+06    27.000000  800001.000000       308.000000   \n",
       "\n",
       "       deliverypartnerid  insuranceCompanyId    custpincode  servicecntrid  \\\n",
       "count        6250.000000         6250.000000    6250.000000    6250.000000   \n",
       "mean          231.495360          155.040480  366009.473440    4457.158080   \n",
       "std            22.521945           41.883918  210990.167946     200.945634   \n",
       "min             0.000000          131.000000       0.000000    4008.000000   \n",
       "25%           233.000000          131.000000  135034.000000    4398.000000   \n",
       "50%           233.000000          131.000000  395001.500000    4474.000000   \n",
       "75%           233.000000          131.000000  560016.000000    4580.000000   \n",
       "max           245.000000          228.000000  855107.000000    5146.000000   \n",
       "\n",
       "       tat_in_days  \n",
       "count  6250.000000  \n",
       "mean     12.730400  \n",
       "std       5.075533  \n",
       "min       2.000000  \n",
       "25%       9.000000  \n",
       "50%      12.000000  \n",
       "75%      15.000000  \n",
       "max      57.000000  "
      ]
     },
     "execution_count": 876,
     "metadata": {},
     "output_type": "execute_result"
    }
   ],
   "source": [
    "data.describe()"
   ]
  },
  {
   "cell_type": "code",
   "execution_count": 877,
   "metadata": {},
   "outputs": [
    {
     "name": "stdout",
     "output_type": "stream",
     "text": [
      "<class 'pandas.core.frame.DataFrame'>\n",
      "RangeIndex: 6250 entries, 0 to 6249\n",
      "Data columns (total 16 columns):\n",
      "srno                   6250 non-null int64\n",
      "mobmake                6250 non-null object\n",
      "hubid                  6250 non-null int64\n",
      "hubpincode             6250 non-null int64\n",
      "pickuppartnerid        6250 non-null int64\n",
      "deliverypartnerid      6250 non-null int64\n",
      "insuranceCompanyId     6250 non-null int64\n",
      "custpincodecategory    6250 non-null object\n",
      "claimtype              6250 non-null object\n",
      "custpincode            6250 non-null int64\n",
      "memcreateddate         6250 non-null object\n",
      "mobilepurchasedate     6250 non-null object\n",
      "claimintdate           6250 non-null object\n",
      "servicecntrid          6250 non-null int64\n",
      "pickupStartdate        6250 non-null object\n",
      "tat_in_days            6250 non-null int64\n",
      "dtypes: int64(9), object(7)\n",
      "memory usage: 781.3+ KB\n"
     ]
    }
   ],
   "source": [
    "data.info()"
   ]
  },
  {
   "cell_type": "code",
   "execution_count": 878,
   "metadata": {},
   "outputs": [
    {
     "data": {
      "text/html": [
       "<div>\n",
       "<style>\n",
       "    .dataframe thead tr:only-child th {\n",
       "        text-align: right;\n",
       "    }\n",
       "\n",
       "    .dataframe thead th {\n",
       "        text-align: left;\n",
       "    }\n",
       "\n",
       "    .dataframe tbody tr th {\n",
       "        vertical-align: top;\n",
       "    }\n",
       "</style>\n",
       "<table border=\"1\" class=\"dataframe\">\n",
       "  <thead>\n",
       "    <tr style=\"text-align: right;\">\n",
       "      <th></th>\n",
       "      <th>srno</th>\n",
       "      <th>mobmake</th>\n",
       "      <th>hubid</th>\n",
       "      <th>hubpincode</th>\n",
       "      <th>pickuppartnerid</th>\n",
       "      <th>deliverypartnerid</th>\n",
       "      <th>insuranceCompanyId</th>\n",
       "      <th>custpincodecategory</th>\n",
       "      <th>claimtype</th>\n",
       "      <th>custpincode</th>\n",
       "      <th>memcreateddate</th>\n",
       "      <th>mobilepurchasedate</th>\n",
       "      <th>claimintdate</th>\n",
       "      <th>servicecntrid</th>\n",
       "      <th>pickupStartdate</th>\n",
       "      <th>tat_in_days</th>\n",
       "    </tr>\n",
       "  </thead>\n",
       "  <tbody>\n",
       "    <tr>\n",
       "      <th>0</th>\n",
       "      <td>2851218</td>\n",
       "      <td>AN</td>\n",
       "      <td>7</td>\n",
       "      <td>500004</td>\n",
       "      <td>233</td>\n",
       "      <td>233</td>\n",
       "      <td>131</td>\n",
       "      <td>A</td>\n",
       "      <td>ADLD</td>\n",
       "      <td>500001</td>\n",
       "      <td>2017-04-27</td>\n",
       "      <td>2016-12-02</td>\n",
       "      <td>2018-02-08</td>\n",
       "      <td>4403</td>\n",
       "      <td>2018-02-13</td>\n",
       "      <td>5</td>\n",
       "    </tr>\n",
       "    <tr>\n",
       "      <th>1</th>\n",
       "      <td>2838330</td>\n",
       "      <td>AJ</td>\n",
       "      <td>10</td>\n",
       "      <td>226010</td>\n",
       "      <td>233</td>\n",
       "      <td>233</td>\n",
       "      <td>131</td>\n",
       "      <td>A</td>\n",
       "      <td>ADLD</td>\n",
       "      <td>226022</td>\n",
       "      <td>2017-03-06</td>\n",
       "      <td>2017-03-05</td>\n",
       "      <td>2018-02-04</td>\n",
       "      <td>4444</td>\n",
       "      <td>2018-02-08</td>\n",
       "      <td>12</td>\n",
       "    </tr>\n",
       "    <tr>\n",
       "      <th>2</th>\n",
       "      <td>2835781</td>\n",
       "      <td>AJ</td>\n",
       "      <td>2</td>\n",
       "      <td>110018</td>\n",
       "      <td>233</td>\n",
       "      <td>233</td>\n",
       "      <td>228</td>\n",
       "      <td>A</td>\n",
       "      <td>ADLD</td>\n",
       "      <td>110018</td>\n",
       "      <td>2018-02-01</td>\n",
       "      <td>2018-01-27</td>\n",
       "      <td>2018-02-03</td>\n",
       "      <td>4388</td>\n",
       "      <td>2018-02-12</td>\n",
       "      <td>9</td>\n",
       "    </tr>\n",
       "    <tr>\n",
       "      <th>3</th>\n",
       "      <td>2838589</td>\n",
       "      <td>AM</td>\n",
       "      <td>2</td>\n",
       "      <td>110018</td>\n",
       "      <td>233</td>\n",
       "      <td>233</td>\n",
       "      <td>228</td>\n",
       "      <td>B</td>\n",
       "      <td>ADLD</td>\n",
       "      <td>124001</td>\n",
       "      <td>2018-01-17</td>\n",
       "      <td>2018-01-31</td>\n",
       "      <td>2018-02-04</td>\n",
       "      <td>4092</td>\n",
       "      <td>2018-02-14</td>\n",
       "      <td>9</td>\n",
       "    </tr>\n",
       "    <tr>\n",
       "      <th>4</th>\n",
       "      <td>2855214</td>\n",
       "      <td>AN</td>\n",
       "      <td>21</td>\n",
       "      <td>110015</td>\n",
       "      <td>233</td>\n",
       "      <td>233</td>\n",
       "      <td>131</td>\n",
       "      <td>A</td>\n",
       "      <td>ADLD</td>\n",
       "      <td>201301</td>\n",
       "      <td>2018-01-23</td>\n",
       "      <td>2018-01-20</td>\n",
       "      <td>2018-02-09</td>\n",
       "      <td>4580</td>\n",
       "      <td>2018-02-14</td>\n",
       "      <td>8</td>\n",
       "    </tr>\n",
       "  </tbody>\n",
       "</table>\n",
       "</div>"
      ],
      "text/plain": [
       "      srno mobmake  hubid  hubpincode  pickuppartnerid  deliverypartnerid  \\\n",
       "0  2851218      AN      7      500004              233                233   \n",
       "1  2838330      AJ     10      226010              233                233   \n",
       "2  2835781      AJ      2      110018              233                233   \n",
       "3  2838589      AM      2      110018              233                233   \n",
       "4  2855214      AN     21      110015              233                233   \n",
       "\n",
       "   insuranceCompanyId custpincodecategory claimtype  custpincode  \\\n",
       "0                 131                   A      ADLD       500001   \n",
       "1                 131                   A      ADLD       226022   \n",
       "2                 228                   A      ADLD       110018   \n",
       "3                 228                   B      ADLD       124001   \n",
       "4                 131                   A      ADLD       201301   \n",
       "\n",
       "  memcreateddate mobilepurchasedate claimintdate  servicecntrid  \\\n",
       "0     2017-04-27         2016-12-02   2018-02-08           4403   \n",
       "1     2017-03-06         2017-03-05   2018-02-04           4444   \n",
       "2     2018-02-01         2018-01-27   2018-02-03           4388   \n",
       "3     2018-01-17         2018-01-31   2018-02-04           4092   \n",
       "4     2018-01-23         2018-01-20   2018-02-09           4580   \n",
       "\n",
       "  pickupStartdate  tat_in_days  \n",
       "0      2018-02-13            5  \n",
       "1      2018-02-08           12  \n",
       "2      2018-02-12            9  \n",
       "3      2018-02-14            9  \n",
       "4      2018-02-14            8  "
      ]
     },
     "execution_count": 878,
     "metadata": {},
     "output_type": "execute_result"
    }
   ],
   "source": [
    "data.head()"
   ]
  },
  {
   "cell_type": "code",
   "execution_count": 879,
   "metadata": {},
   "outputs": [
    {
     "data": {
      "text/plain": [
       "array(['AN', 'AJ', 'AM', 'C', 'AI', 'AD', 'S', 'AA', 'Y', 'AE', 'D', 'U',\n",
       "       'AB', 'T', 'AF', 'G', 'L', 'H', 'K', 'J', 'N', 'AP', 'AK', 'O',\n",
       "       'F', 'AL', 'R', 'M', 'Z', 'P', 'I', 'V', 'AR', 'W', 'AG', 'B', 'A',\n",
       "       'AO'], dtype=object)"
      ]
     },
     "execution_count": 879,
     "metadata": {},
     "output_type": "execute_result"
    }
   ],
   "source": [
    "data['mobmake'].unique()"
   ]
  },
  {
   "cell_type": "code",
   "execution_count": 880,
   "metadata": {},
   "outputs": [
    {
     "data": {
      "text/plain": [
       "array(['ADLD', 'EW'], dtype=object)"
      ]
     },
     "execution_count": 880,
     "metadata": {},
     "output_type": "execute_result"
    }
   ],
   "source": [
    "data['claimtype'].unique()"
   ]
  },
  {
   "cell_type": "code",
   "execution_count": 881,
   "metadata": {
    "collapsed": true
   },
   "outputs": [],
   "source": [
    "def get_claimtype(x):\n",
    "    if x == 'ADLD':\n",
    "        return 1\n",
    "    else:\n",
    "        return 0"
   ]
  },
  {
   "cell_type": "code",
   "execution_count": 882,
   "metadata": {},
   "outputs": [],
   "source": [
    "data['cat_claim'] = [get_claimtype(data['claimtype'][i]) for i in range(len(data['claimtype']))]"
   ]
  },
  {
   "cell_type": "code",
   "execution_count": 883,
   "metadata": {},
   "outputs": [],
   "source": [
    "data.drop(['srno', 'claimtype'], inplace = True, axis = 1)"
   ]
  },
  {
   "cell_type": "code",
   "execution_count": 884,
   "metadata": {},
   "outputs": [
    {
     "data": {
      "text/html": [
       "<div>\n",
       "<style>\n",
       "    .dataframe thead tr:only-child th {\n",
       "        text-align: right;\n",
       "    }\n",
       "\n",
       "    .dataframe thead th {\n",
       "        text-align: left;\n",
       "    }\n",
       "\n",
       "    .dataframe tbody tr th {\n",
       "        vertical-align: top;\n",
       "    }\n",
       "</style>\n",
       "<table border=\"1\" class=\"dataframe\">\n",
       "  <thead>\n",
       "    <tr style=\"text-align: right;\">\n",
       "      <th></th>\n",
       "      <th>mobmake</th>\n",
       "      <th>hubid</th>\n",
       "      <th>hubpincode</th>\n",
       "      <th>pickuppartnerid</th>\n",
       "      <th>deliverypartnerid</th>\n",
       "      <th>insuranceCompanyId</th>\n",
       "      <th>custpincodecategory</th>\n",
       "      <th>custpincode</th>\n",
       "      <th>memcreateddate</th>\n",
       "      <th>mobilepurchasedate</th>\n",
       "      <th>claimintdate</th>\n",
       "      <th>servicecntrid</th>\n",
       "      <th>pickupStartdate</th>\n",
       "      <th>tat_in_days</th>\n",
       "      <th>cat_claim</th>\n",
       "    </tr>\n",
       "  </thead>\n",
       "  <tbody>\n",
       "    <tr>\n",
       "      <th>0</th>\n",
       "      <td>AN</td>\n",
       "      <td>7</td>\n",
       "      <td>500004</td>\n",
       "      <td>233</td>\n",
       "      <td>233</td>\n",
       "      <td>131</td>\n",
       "      <td>A</td>\n",
       "      <td>500001</td>\n",
       "      <td>2017-04-27</td>\n",
       "      <td>2016-12-02</td>\n",
       "      <td>2018-02-08</td>\n",
       "      <td>4403</td>\n",
       "      <td>2018-02-13</td>\n",
       "      <td>5</td>\n",
       "      <td>1</td>\n",
       "    </tr>\n",
       "    <tr>\n",
       "      <th>1</th>\n",
       "      <td>AJ</td>\n",
       "      <td>10</td>\n",
       "      <td>226010</td>\n",
       "      <td>233</td>\n",
       "      <td>233</td>\n",
       "      <td>131</td>\n",
       "      <td>A</td>\n",
       "      <td>226022</td>\n",
       "      <td>2017-03-06</td>\n",
       "      <td>2017-03-05</td>\n",
       "      <td>2018-02-04</td>\n",
       "      <td>4444</td>\n",
       "      <td>2018-02-08</td>\n",
       "      <td>12</td>\n",
       "      <td>1</td>\n",
       "    </tr>\n",
       "    <tr>\n",
       "      <th>2</th>\n",
       "      <td>AJ</td>\n",
       "      <td>2</td>\n",
       "      <td>110018</td>\n",
       "      <td>233</td>\n",
       "      <td>233</td>\n",
       "      <td>228</td>\n",
       "      <td>A</td>\n",
       "      <td>110018</td>\n",
       "      <td>2018-02-01</td>\n",
       "      <td>2018-01-27</td>\n",
       "      <td>2018-02-03</td>\n",
       "      <td>4388</td>\n",
       "      <td>2018-02-12</td>\n",
       "      <td>9</td>\n",
       "      <td>1</td>\n",
       "    </tr>\n",
       "    <tr>\n",
       "      <th>3</th>\n",
       "      <td>AM</td>\n",
       "      <td>2</td>\n",
       "      <td>110018</td>\n",
       "      <td>233</td>\n",
       "      <td>233</td>\n",
       "      <td>228</td>\n",
       "      <td>B</td>\n",
       "      <td>124001</td>\n",
       "      <td>2018-01-17</td>\n",
       "      <td>2018-01-31</td>\n",
       "      <td>2018-02-04</td>\n",
       "      <td>4092</td>\n",
       "      <td>2018-02-14</td>\n",
       "      <td>9</td>\n",
       "      <td>1</td>\n",
       "    </tr>\n",
       "    <tr>\n",
       "      <th>4</th>\n",
       "      <td>AN</td>\n",
       "      <td>21</td>\n",
       "      <td>110015</td>\n",
       "      <td>233</td>\n",
       "      <td>233</td>\n",
       "      <td>131</td>\n",
       "      <td>A</td>\n",
       "      <td>201301</td>\n",
       "      <td>2018-01-23</td>\n",
       "      <td>2018-01-20</td>\n",
       "      <td>2018-02-09</td>\n",
       "      <td>4580</td>\n",
       "      <td>2018-02-14</td>\n",
       "      <td>8</td>\n",
       "      <td>1</td>\n",
       "    </tr>\n",
       "  </tbody>\n",
       "</table>\n",
       "</div>"
      ],
      "text/plain": [
       "  mobmake  hubid  hubpincode  pickuppartnerid  deliverypartnerid  \\\n",
       "0      AN      7      500004              233                233   \n",
       "1      AJ     10      226010              233                233   \n",
       "2      AJ      2      110018              233                233   \n",
       "3      AM      2      110018              233                233   \n",
       "4      AN     21      110015              233                233   \n",
       "\n",
       "   insuranceCompanyId custpincodecategory  custpincode memcreateddate  \\\n",
       "0                 131                   A       500001     2017-04-27   \n",
       "1                 131                   A       226022     2017-03-06   \n",
       "2                 228                   A       110018     2018-02-01   \n",
       "3                 228                   B       124001     2018-01-17   \n",
       "4                 131                   A       201301     2018-01-23   \n",
       "\n",
       "  mobilepurchasedate claimintdate  servicecntrid pickupStartdate  tat_in_days  \\\n",
       "0         2016-12-02   2018-02-08           4403      2018-02-13            5   \n",
       "1         2017-03-05   2018-02-04           4444      2018-02-08           12   \n",
       "2         2018-01-27   2018-02-03           4388      2018-02-12            9   \n",
       "3         2018-01-31   2018-02-04           4092      2018-02-14            9   \n",
       "4         2018-01-20   2018-02-09           4580      2018-02-14            8   \n",
       "\n",
       "   cat_claim  \n",
       "0          1  \n",
       "1          1  \n",
       "2          1  \n",
       "3          1  \n",
       "4          1  "
      ]
     },
     "execution_count": 884,
     "metadata": {},
     "output_type": "execute_result"
    }
   ],
   "source": [
    "data.head()"
   ]
  },
  {
   "cell_type": "code",
   "execution_count": 885,
   "metadata": {},
   "outputs": [
    {
     "data": {
      "text/plain": [
       "array(['A', 'B', 'C', '0', 'D'], dtype=object)"
      ]
     },
     "execution_count": 885,
     "metadata": {},
     "output_type": "execute_result"
    }
   ],
   "source": [
    "data['custpincodecategory'].unique()"
   ]
  },
  {
   "cell_type": "code",
   "execution_count": 886,
   "metadata": {
    "collapsed": true
   },
   "outputs": [],
   "source": [
    "def cat_custpincodecategory(x):\n",
    "    if x == '0':\n",
    "        return 0\n",
    "    elif x == 'A':\n",
    "        return 1\n",
    "    elif x == 'B':\n",
    "        return 2\n",
    "    elif x == 'C':\n",
    "        return 3\n",
    "    elif x == 'D':\n",
    "        return 4"
   ]
  },
  {
   "cell_type": "code",
   "execution_count": 887,
   "metadata": {
    "collapsed": true
   },
   "outputs": [],
   "source": [
    "data['cat_custpincodecategory'] = [cat_custpincodecategory(data['custpincodecategory'][i]) for i in range(len(data['custpincodecategory']))]\n",
    "data.drop(['custpincodecategory'], inplace=True, axis = 1)"
   ]
  },
  {
   "cell_type": "code",
   "execution_count": 888,
   "metadata": {},
   "outputs": [
    {
     "data": {
      "text/html": [
       "<div>\n",
       "<style>\n",
       "    .dataframe thead tr:only-child th {\n",
       "        text-align: right;\n",
       "    }\n",
       "\n",
       "    .dataframe thead th {\n",
       "        text-align: left;\n",
       "    }\n",
       "\n",
       "    .dataframe tbody tr th {\n",
       "        vertical-align: top;\n",
       "    }\n",
       "</style>\n",
       "<table border=\"1\" class=\"dataframe\">\n",
       "  <thead>\n",
       "    <tr style=\"text-align: right;\">\n",
       "      <th></th>\n",
       "      <th>mobmake</th>\n",
       "      <th>hubid</th>\n",
       "      <th>hubpincode</th>\n",
       "      <th>pickuppartnerid</th>\n",
       "      <th>deliverypartnerid</th>\n",
       "      <th>insuranceCompanyId</th>\n",
       "      <th>custpincode</th>\n",
       "      <th>memcreateddate</th>\n",
       "      <th>mobilepurchasedate</th>\n",
       "      <th>claimintdate</th>\n",
       "      <th>servicecntrid</th>\n",
       "      <th>pickupStartdate</th>\n",
       "      <th>tat_in_days</th>\n",
       "      <th>cat_claim</th>\n",
       "      <th>cat_custpincodecategory</th>\n",
       "    </tr>\n",
       "  </thead>\n",
       "  <tbody>\n",
       "    <tr>\n",
       "      <th>0</th>\n",
       "      <td>AN</td>\n",
       "      <td>7</td>\n",
       "      <td>500004</td>\n",
       "      <td>233</td>\n",
       "      <td>233</td>\n",
       "      <td>131</td>\n",
       "      <td>500001</td>\n",
       "      <td>2017-04-27</td>\n",
       "      <td>2016-12-02</td>\n",
       "      <td>2018-02-08</td>\n",
       "      <td>4403</td>\n",
       "      <td>2018-02-13</td>\n",
       "      <td>5</td>\n",
       "      <td>1</td>\n",
       "      <td>1</td>\n",
       "    </tr>\n",
       "    <tr>\n",
       "      <th>1</th>\n",
       "      <td>AJ</td>\n",
       "      <td>10</td>\n",
       "      <td>226010</td>\n",
       "      <td>233</td>\n",
       "      <td>233</td>\n",
       "      <td>131</td>\n",
       "      <td>226022</td>\n",
       "      <td>2017-03-06</td>\n",
       "      <td>2017-03-05</td>\n",
       "      <td>2018-02-04</td>\n",
       "      <td>4444</td>\n",
       "      <td>2018-02-08</td>\n",
       "      <td>12</td>\n",
       "      <td>1</td>\n",
       "      <td>1</td>\n",
       "    </tr>\n",
       "    <tr>\n",
       "      <th>2</th>\n",
       "      <td>AJ</td>\n",
       "      <td>2</td>\n",
       "      <td>110018</td>\n",
       "      <td>233</td>\n",
       "      <td>233</td>\n",
       "      <td>228</td>\n",
       "      <td>110018</td>\n",
       "      <td>2018-02-01</td>\n",
       "      <td>2018-01-27</td>\n",
       "      <td>2018-02-03</td>\n",
       "      <td>4388</td>\n",
       "      <td>2018-02-12</td>\n",
       "      <td>9</td>\n",
       "      <td>1</td>\n",
       "      <td>1</td>\n",
       "    </tr>\n",
       "    <tr>\n",
       "      <th>3</th>\n",
       "      <td>AM</td>\n",
       "      <td>2</td>\n",
       "      <td>110018</td>\n",
       "      <td>233</td>\n",
       "      <td>233</td>\n",
       "      <td>228</td>\n",
       "      <td>124001</td>\n",
       "      <td>2018-01-17</td>\n",
       "      <td>2018-01-31</td>\n",
       "      <td>2018-02-04</td>\n",
       "      <td>4092</td>\n",
       "      <td>2018-02-14</td>\n",
       "      <td>9</td>\n",
       "      <td>1</td>\n",
       "      <td>2</td>\n",
       "    </tr>\n",
       "    <tr>\n",
       "      <th>4</th>\n",
       "      <td>AN</td>\n",
       "      <td>21</td>\n",
       "      <td>110015</td>\n",
       "      <td>233</td>\n",
       "      <td>233</td>\n",
       "      <td>131</td>\n",
       "      <td>201301</td>\n",
       "      <td>2018-01-23</td>\n",
       "      <td>2018-01-20</td>\n",
       "      <td>2018-02-09</td>\n",
       "      <td>4580</td>\n",
       "      <td>2018-02-14</td>\n",
       "      <td>8</td>\n",
       "      <td>1</td>\n",
       "      <td>1</td>\n",
       "    </tr>\n",
       "  </tbody>\n",
       "</table>\n",
       "</div>"
      ],
      "text/plain": [
       "  mobmake  hubid  hubpincode  pickuppartnerid  deliverypartnerid  \\\n",
       "0      AN      7      500004              233                233   \n",
       "1      AJ     10      226010              233                233   \n",
       "2      AJ      2      110018              233                233   \n",
       "3      AM      2      110018              233                233   \n",
       "4      AN     21      110015              233                233   \n",
       "\n",
       "   insuranceCompanyId  custpincode memcreateddate mobilepurchasedate  \\\n",
       "0                 131       500001     2017-04-27         2016-12-02   \n",
       "1                 131       226022     2017-03-06         2017-03-05   \n",
       "2                 228       110018     2018-02-01         2018-01-27   \n",
       "3                 228       124001     2018-01-17         2018-01-31   \n",
       "4                 131       201301     2018-01-23         2018-01-20   \n",
       "\n",
       "  claimintdate  servicecntrid pickupStartdate  tat_in_days  cat_claim  \\\n",
       "0   2018-02-08           4403      2018-02-13            5          1   \n",
       "1   2018-02-04           4444      2018-02-08           12          1   \n",
       "2   2018-02-03           4388      2018-02-12            9          1   \n",
       "3   2018-02-04           4092      2018-02-14            9          1   \n",
       "4   2018-02-09           4580      2018-02-14            8          1   \n",
       "\n",
       "   cat_custpincodecategory  \n",
       "0                        1  \n",
       "1                        1  \n",
       "2                        1  \n",
       "3                        2  \n",
       "4                        1  "
      ]
     },
     "execution_count": 888,
     "metadata": {},
     "output_type": "execute_result"
    }
   ],
   "source": [
    "data.head()"
   ]
  },
  {
   "cell_type": "code",
   "execution_count": 889,
   "metadata": {},
   "outputs": [],
   "source": [
    "m1 = np.array(data['mobmake'])\n",
    "m1 = list(set(m1))"
   ]
  },
  {
   "cell_type": "code",
   "execution_count": 890,
   "metadata": {},
   "outputs": [],
   "source": [
    "d = {}\n",
    "for i in range(len(m1)):\n",
    "    d[m1[i]] = i"
   ]
  },
  {
   "cell_type": "code",
   "execution_count": 891,
   "metadata": {},
   "outputs": [
    {
     "data": {
      "text/html": [
       "<div>\n",
       "<style>\n",
       "    .dataframe thead tr:only-child th {\n",
       "        text-align: right;\n",
       "    }\n",
       "\n",
       "    .dataframe thead th {\n",
       "        text-align: left;\n",
       "    }\n",
       "\n",
       "    .dataframe tbody tr th {\n",
       "        vertical-align: top;\n",
       "    }\n",
       "</style>\n",
       "<table border=\"1\" class=\"dataframe\">\n",
       "  <thead>\n",
       "    <tr style=\"text-align: right;\">\n",
       "      <th></th>\n",
       "      <th>hubid</th>\n",
       "      <th>hubpincode</th>\n",
       "      <th>pickuppartnerid</th>\n",
       "      <th>deliverypartnerid</th>\n",
       "      <th>insuranceCompanyId</th>\n",
       "      <th>custpincode</th>\n",
       "      <th>memcreateddate</th>\n",
       "      <th>mobilepurchasedate</th>\n",
       "      <th>claimintdate</th>\n",
       "      <th>servicecntrid</th>\n",
       "      <th>pickupStartdate</th>\n",
       "      <th>tat_in_days</th>\n",
       "      <th>cat_claim</th>\n",
       "      <th>cat_custpincodecategory</th>\n",
       "      <th>cat_mobmake</th>\n",
       "    </tr>\n",
       "  </thead>\n",
       "  <tbody>\n",
       "    <tr>\n",
       "      <th>0</th>\n",
       "      <td>7</td>\n",
       "      <td>500004</td>\n",
       "      <td>233</td>\n",
       "      <td>233</td>\n",
       "      <td>131</td>\n",
       "      <td>500001</td>\n",
       "      <td>2017-04-27</td>\n",
       "      <td>2016-12-02</td>\n",
       "      <td>2018-02-08</td>\n",
       "      <td>4403</td>\n",
       "      <td>2018-02-13</td>\n",
       "      <td>5</td>\n",
       "      <td>1</td>\n",
       "      <td>1</td>\n",
       "      <td>19</td>\n",
       "    </tr>\n",
       "    <tr>\n",
       "      <th>1</th>\n",
       "      <td>10</td>\n",
       "      <td>226010</td>\n",
       "      <td>233</td>\n",
       "      <td>233</td>\n",
       "      <td>131</td>\n",
       "      <td>226022</td>\n",
       "      <td>2017-03-06</td>\n",
       "      <td>2017-03-05</td>\n",
       "      <td>2018-02-04</td>\n",
       "      <td>4444</td>\n",
       "      <td>2018-02-08</td>\n",
       "      <td>12</td>\n",
       "      <td>1</td>\n",
       "      <td>1</td>\n",
       "      <td>11</td>\n",
       "    </tr>\n",
       "    <tr>\n",
       "      <th>2</th>\n",
       "      <td>2</td>\n",
       "      <td>110018</td>\n",
       "      <td>233</td>\n",
       "      <td>233</td>\n",
       "      <td>228</td>\n",
       "      <td>110018</td>\n",
       "      <td>2018-02-01</td>\n",
       "      <td>2018-01-27</td>\n",
       "      <td>2018-02-03</td>\n",
       "      <td>4388</td>\n",
       "      <td>2018-02-12</td>\n",
       "      <td>9</td>\n",
       "      <td>1</td>\n",
       "      <td>1</td>\n",
       "      <td>11</td>\n",
       "    </tr>\n",
       "    <tr>\n",
       "      <th>3</th>\n",
       "      <td>2</td>\n",
       "      <td>110018</td>\n",
       "      <td>233</td>\n",
       "      <td>233</td>\n",
       "      <td>228</td>\n",
       "      <td>124001</td>\n",
       "      <td>2018-01-17</td>\n",
       "      <td>2018-01-31</td>\n",
       "      <td>2018-02-04</td>\n",
       "      <td>4092</td>\n",
       "      <td>2018-02-14</td>\n",
       "      <td>9</td>\n",
       "      <td>1</td>\n",
       "      <td>2</td>\n",
       "      <td>5</td>\n",
       "    </tr>\n",
       "    <tr>\n",
       "      <th>4</th>\n",
       "      <td>21</td>\n",
       "      <td>110015</td>\n",
       "      <td>233</td>\n",
       "      <td>233</td>\n",
       "      <td>131</td>\n",
       "      <td>201301</td>\n",
       "      <td>2018-01-23</td>\n",
       "      <td>2018-01-20</td>\n",
       "      <td>2018-02-09</td>\n",
       "      <td>4580</td>\n",
       "      <td>2018-02-14</td>\n",
       "      <td>8</td>\n",
       "      <td>1</td>\n",
       "      <td>1</td>\n",
       "      <td>19</td>\n",
       "    </tr>\n",
       "  </tbody>\n",
       "</table>\n",
       "</div>"
      ],
      "text/plain": [
       "   hubid  hubpincode  pickuppartnerid  deliverypartnerid  insuranceCompanyId  \\\n",
       "0      7      500004              233                233                 131   \n",
       "1     10      226010              233                233                 131   \n",
       "2      2      110018              233                233                 228   \n",
       "3      2      110018              233                233                 228   \n",
       "4     21      110015              233                233                 131   \n",
       "\n",
       "   custpincode memcreateddate mobilepurchasedate claimintdate  servicecntrid  \\\n",
       "0       500001     2017-04-27         2016-12-02   2018-02-08           4403   \n",
       "1       226022     2017-03-06         2017-03-05   2018-02-04           4444   \n",
       "2       110018     2018-02-01         2018-01-27   2018-02-03           4388   \n",
       "3       124001     2018-01-17         2018-01-31   2018-02-04           4092   \n",
       "4       201301     2018-01-23         2018-01-20   2018-02-09           4580   \n",
       "\n",
       "  pickupStartdate  tat_in_days  cat_claim  cat_custpincodecategory  \\\n",
       "0      2018-02-13            5          1                        1   \n",
       "1      2018-02-08           12          1                        1   \n",
       "2      2018-02-12            9          1                        1   \n",
       "3      2018-02-14            9          1                        2   \n",
       "4      2018-02-14            8          1                        1   \n",
       "\n",
       "   cat_mobmake  \n",
       "0           19  \n",
       "1           11  \n",
       "2           11  \n",
       "3            5  \n",
       "4           19  "
      ]
     },
     "execution_count": 891,
     "metadata": {},
     "output_type": "execute_result"
    }
   ],
   "source": [
    "data['cat_mobmake'] = [d[data['mobmake'][i]] for i in range(len(data['mobmake']))]\n",
    "data.drop(['mobmake'], inplace = True, axis= 1)\n",
    "data.head()"
   ]
  },
  {
   "cell_type": "code",
   "execution_count": 892,
   "metadata": {},
   "outputs": [
    {
     "data": {
      "text/plain": [
       "str"
      ]
     },
     "execution_count": 892,
     "metadata": {},
     "output_type": "execute_result"
    }
   ],
   "source": [
    "type(data['mobilepurchasedate'][0])"
   ]
  },
  {
   "cell_type": "code",
   "execution_count": 893,
   "metadata": {},
   "outputs": [],
   "source": [
    "data['mobpurdate_year'] = [int(data['mobilepurchasedate'][i].split('-')[0]) for i in range(len(data['mobilepurchasedate']))]\n",
    "data['memcreateddate_year'] = [int(data['memcreateddate'][i].split('-')[0]) for i in range(len(data['memcreateddate']))]\n",
    "data['claimintdate_year'] = [int(data['claimintdate'][i].split('-')[0]) for i in range(len(data['claimintdate']))]\n",
    "data['pickupstartdate_year'] = [int(data['pickupStartdate'][i].split('-')[0]) for i in range(len(data['pickupStartdate']))]"
   ]
  },
  {
   "cell_type": "code",
   "execution_count": 894,
   "metadata": {
    "collapsed": true
   },
   "outputs": [],
   "source": [
    "data['mobpurdate_date'] = [int(data['mobilepurchasedate'][i].split('-')[2]) for i in range(len(data['mobilepurchasedate']))]\n",
    "data['memcreateddate_date'] = [int(data['memcreateddate'][i].split('-')[2]) for i in range(len(data['memcreateddate']))]\n",
    "data['claimintdate_date'] = [int(data['claimintdate'][i].split('-')[2]) for i in range(len(data['claimintdate']))]\n",
    "data['pickupstartdate_date'] = [int(data['pickupStartdate'][i].split('-')[2]) for i in range(len(data['pickupStartdate']))]"
   ]
  },
  {
   "cell_type": "code",
   "execution_count": 895,
   "metadata": {
    "collapsed": true
   },
   "outputs": [],
   "source": [
    "data['mobpurdate_month'] = [int(data['mobilepurchasedate'][i].split('-')[1]) for i in range(len(data['mobilepurchasedate']))]\n",
    "data['memcreateddate_month'] = [int(data['memcreateddate'][i].split('-')[1]) for i in range(len(data['memcreateddate']))]\n",
    "data['claimintdate_month'] = [int(data['claimintdate'][i].split('-')[1]) for i in range(len(data['claimintdate']))]\n",
    "data['pickupstartdate_month'] = [int(data['pickupStartdate'][i].split('-')[1]) for i in range(len(data['pickupStartdate']))]"
   ]
  },
  {
   "cell_type": "code",
   "execution_count": 896,
   "metadata": {},
   "outputs": [],
   "source": [
    "data.drop(['mobilepurchasedate', 'memcreateddate','claimintdate','pickupStartdate'], axis = 1, inplace=True)"
   ]
  },
  {
   "cell_type": "code",
   "execution_count": 897,
   "metadata": {},
   "outputs": [
    {
     "data": {
      "text/plain": [
       "Index(['hubid', 'hubpincode', 'pickuppartnerid', 'deliverypartnerid',\n",
       "       'insuranceCompanyId', 'custpincode', 'servicecntrid', 'tat_in_days',\n",
       "       'cat_claim', 'cat_custpincodecategory', 'cat_mobmake',\n",
       "       'mobpurdate_year', 'memcreateddate_year', 'claimintdate_year',\n",
       "       'pickupstartdate_year', 'mobpurdate_date', 'memcreateddate_date',\n",
       "       'claimintdate_date', 'pickupstartdate_date', 'mobpurdate_month',\n",
       "       'memcreateddate_month', 'claimintdate_month', 'pickupstartdate_month'],\n",
       "      dtype='object')"
      ]
     },
     "execution_count": 897,
     "metadata": {},
     "output_type": "execute_result"
    }
   ],
   "source": [
    "data.columns"
   ]
  },
  {
   "cell_type": "code",
   "execution_count": 898,
   "metadata": {},
   "outputs": [],
   "source": [
    "# remove any one of hubid or hubpincode since they convey the same info\n",
    "data.drop('hubpincode', inplace = True, axis  =1)"
   ]
  },
  {
   "cell_type": "code",
   "execution_count": 899,
   "metadata": {},
   "outputs": [
    {
     "data": {
      "text/html": [
       "<div>\n",
       "<style>\n",
       "    .dataframe thead tr:only-child th {\n",
       "        text-align: right;\n",
       "    }\n",
       "\n",
       "    .dataframe thead th {\n",
       "        text-align: left;\n",
       "    }\n",
       "\n",
       "    .dataframe tbody tr th {\n",
       "        vertical-align: top;\n",
       "    }\n",
       "</style>\n",
       "<table border=\"1\" class=\"dataframe\">\n",
       "  <thead>\n",
       "    <tr style=\"text-align: right;\">\n",
       "      <th></th>\n",
       "      <th>hubid</th>\n",
       "      <th>pickuppartnerid</th>\n",
       "      <th>deliverypartnerid</th>\n",
       "      <th>insuranceCompanyId</th>\n",
       "      <th>custpincode</th>\n",
       "      <th>servicecntrid</th>\n",
       "      <th>tat_in_days</th>\n",
       "      <th>cat_claim</th>\n",
       "      <th>cat_custpincodecategory</th>\n",
       "      <th>cat_mobmake</th>\n",
       "      <th>...</th>\n",
       "      <th>claimintdate_year</th>\n",
       "      <th>pickupstartdate_year</th>\n",
       "      <th>mobpurdate_date</th>\n",
       "      <th>memcreateddate_date</th>\n",
       "      <th>claimintdate_date</th>\n",
       "      <th>pickupstartdate_date</th>\n",
       "      <th>mobpurdate_month</th>\n",
       "      <th>memcreateddate_month</th>\n",
       "      <th>claimintdate_month</th>\n",
       "      <th>pickupstartdate_month</th>\n",
       "    </tr>\n",
       "  </thead>\n",
       "  <tbody>\n",
       "    <tr>\n",
       "      <th>0</th>\n",
       "      <td>7</td>\n",
       "      <td>233</td>\n",
       "      <td>233</td>\n",
       "      <td>131</td>\n",
       "      <td>500001</td>\n",
       "      <td>4403</td>\n",
       "      <td>5</td>\n",
       "      <td>1</td>\n",
       "      <td>1</td>\n",
       "      <td>19</td>\n",
       "      <td>...</td>\n",
       "      <td>2018</td>\n",
       "      <td>2018</td>\n",
       "      <td>2</td>\n",
       "      <td>27</td>\n",
       "      <td>8</td>\n",
       "      <td>13</td>\n",
       "      <td>12</td>\n",
       "      <td>4</td>\n",
       "      <td>2</td>\n",
       "      <td>2</td>\n",
       "    </tr>\n",
       "    <tr>\n",
       "      <th>1</th>\n",
       "      <td>10</td>\n",
       "      <td>233</td>\n",
       "      <td>233</td>\n",
       "      <td>131</td>\n",
       "      <td>226022</td>\n",
       "      <td>4444</td>\n",
       "      <td>12</td>\n",
       "      <td>1</td>\n",
       "      <td>1</td>\n",
       "      <td>11</td>\n",
       "      <td>...</td>\n",
       "      <td>2018</td>\n",
       "      <td>2018</td>\n",
       "      <td>5</td>\n",
       "      <td>6</td>\n",
       "      <td>4</td>\n",
       "      <td>8</td>\n",
       "      <td>3</td>\n",
       "      <td>3</td>\n",
       "      <td>2</td>\n",
       "      <td>2</td>\n",
       "    </tr>\n",
       "    <tr>\n",
       "      <th>2</th>\n",
       "      <td>2</td>\n",
       "      <td>233</td>\n",
       "      <td>233</td>\n",
       "      <td>228</td>\n",
       "      <td>110018</td>\n",
       "      <td>4388</td>\n",
       "      <td>9</td>\n",
       "      <td>1</td>\n",
       "      <td>1</td>\n",
       "      <td>11</td>\n",
       "      <td>...</td>\n",
       "      <td>2018</td>\n",
       "      <td>2018</td>\n",
       "      <td>27</td>\n",
       "      <td>1</td>\n",
       "      <td>3</td>\n",
       "      <td>12</td>\n",
       "      <td>1</td>\n",
       "      <td>2</td>\n",
       "      <td>2</td>\n",
       "      <td>2</td>\n",
       "    </tr>\n",
       "    <tr>\n",
       "      <th>3</th>\n",
       "      <td>2</td>\n",
       "      <td>233</td>\n",
       "      <td>233</td>\n",
       "      <td>228</td>\n",
       "      <td>124001</td>\n",
       "      <td>4092</td>\n",
       "      <td>9</td>\n",
       "      <td>1</td>\n",
       "      <td>2</td>\n",
       "      <td>5</td>\n",
       "      <td>...</td>\n",
       "      <td>2018</td>\n",
       "      <td>2018</td>\n",
       "      <td>31</td>\n",
       "      <td>17</td>\n",
       "      <td>4</td>\n",
       "      <td>14</td>\n",
       "      <td>1</td>\n",
       "      <td>1</td>\n",
       "      <td>2</td>\n",
       "      <td>2</td>\n",
       "    </tr>\n",
       "    <tr>\n",
       "      <th>4</th>\n",
       "      <td>21</td>\n",
       "      <td>233</td>\n",
       "      <td>233</td>\n",
       "      <td>131</td>\n",
       "      <td>201301</td>\n",
       "      <td>4580</td>\n",
       "      <td>8</td>\n",
       "      <td>1</td>\n",
       "      <td>1</td>\n",
       "      <td>19</td>\n",
       "      <td>...</td>\n",
       "      <td>2018</td>\n",
       "      <td>2018</td>\n",
       "      <td>20</td>\n",
       "      <td>23</td>\n",
       "      <td>9</td>\n",
       "      <td>14</td>\n",
       "      <td>1</td>\n",
       "      <td>1</td>\n",
       "      <td>2</td>\n",
       "      <td>2</td>\n",
       "    </tr>\n",
       "  </tbody>\n",
       "</table>\n",
       "<p>5 rows × 22 columns</p>\n",
       "</div>"
      ],
      "text/plain": [
       "   hubid  pickuppartnerid  deliverypartnerid  insuranceCompanyId  custpincode  \\\n",
       "0      7              233                233                 131       500001   \n",
       "1     10              233                233                 131       226022   \n",
       "2      2              233                233                 228       110018   \n",
       "3      2              233                233                 228       124001   \n",
       "4     21              233                233                 131       201301   \n",
       "\n",
       "   servicecntrid  tat_in_days  cat_claim  cat_custpincodecategory  \\\n",
       "0           4403            5          1                        1   \n",
       "1           4444           12          1                        1   \n",
       "2           4388            9          1                        1   \n",
       "3           4092            9          1                        2   \n",
       "4           4580            8          1                        1   \n",
       "\n",
       "   cat_mobmake          ...            claimintdate_year  \\\n",
       "0           19          ...                         2018   \n",
       "1           11          ...                         2018   \n",
       "2           11          ...                         2018   \n",
       "3            5          ...                         2018   \n",
       "4           19          ...                         2018   \n",
       "\n",
       "   pickupstartdate_year  mobpurdate_date  memcreateddate_date  \\\n",
       "0                  2018                2                   27   \n",
       "1                  2018                5                    6   \n",
       "2                  2018               27                    1   \n",
       "3                  2018               31                   17   \n",
       "4                  2018               20                   23   \n",
       "\n",
       "   claimintdate_date  pickupstartdate_date  mobpurdate_month  \\\n",
       "0                  8                    13                12   \n",
       "1                  4                     8                 3   \n",
       "2                  3                    12                 1   \n",
       "3                  4                    14                 1   \n",
       "4                  9                    14                 1   \n",
       "\n",
       "   memcreateddate_month  claimintdate_month  pickupstartdate_month  \n",
       "0                     4                   2                      2  \n",
       "1                     3                   2                      2  \n",
       "2                     2                   2                      2  \n",
       "3                     1                   2                      2  \n",
       "4                     1                   2                      2  \n",
       "\n",
       "[5 rows x 22 columns]"
      ]
     },
     "execution_count": 899,
     "metadata": {},
     "output_type": "execute_result"
    }
   ],
   "source": [
    "data.head()"
   ]
  },
  {
   "cell_type": "code",
   "execution_count": 900,
   "metadata": {},
   "outputs": [
    {
     "data": {
      "image/png": "[encoded data removed]",
      "text/plain": [
       "<Figure size 432x288 with 2 Axes>"
      ]
     },
     "metadata": {},
     "output_type": "display_data"
    }
   ],
   "source": [
    "cor = data.corr()\n",
    "sns.heatmap(cor, square = True, cmap = 'YlGnBu')\n",
    "plt.yticks(rotation = 0)\n",
    "plt.xticks(rotation = 90)\n",
    "plt.show()"
   ]
  },
  {
   "cell_type": "code",
   "execution_count": 901,
   "metadata": {
    "collapsed": true
   },
   "outputs": [],
   "source": [
    "# remove claimintdate_year and pickupStartdate_year columns since they have no correlation to tat"
   ]
  },
  {
   "cell_type": "code",
   "execution_count": 902,
   "metadata": {},
   "outputs": [],
   "source": [
    "data.drop(['claimintdate_year','pickupstartdate_year'], inplace = True, axis = 1)"
   ]
  },
  {
   "cell_type": "code",
   "execution_count": 903,
   "metadata": {},
   "outputs": [
    {
     "data": {
      "image/png": "[encoded data removed]",
      "text/plain": [
       "<Figure size 432x288 with 2 Axes>"
      ]
     },
     "metadata": {},
     "output_type": "display_data"
    }
   ],
   "source": [
    "cor = data.corr()\n",
    "sns.heatmap(cor, square = True, cmap = 'YlGnBu')\n",
    "plt.yticks(rotation = 0)\n",
    "plt.xticks(rotation = 90)\n",
    "plt.show()"
   ]
  },
  {
   "cell_type": "code",
   "execution_count": 904,
   "metadata": {
    "collapsed": true
   },
   "outputs": [],
   "source": [
    "# remove columns whose correlation with tat is around 0"
   ]
  },
  {
   "cell_type": "code",
   "execution_count": 905,
   "metadata": {},
   "outputs": [],
   "source": [
    "data.drop(['memcreateddate_month','mobpurdate_month','pickupstartdate_date','claimintdate_date','memcreateddate_date','mobpurdate_date','memcreateddate_year','mobpurdate_year'], axis= 1, inplace = True)"
   ]
  },
  {
   "cell_type": "code",
   "execution_count": 906,
   "metadata": {},
   "outputs": [
    {
     "data": {
      "text/html": [
       "<div>\n",
       "<style>\n",
       "    .dataframe thead tr:only-child th {\n",
       "        text-align: right;\n",
       "    }\n",
       "\n",
       "    .dataframe thead th {\n",
       "        text-align: left;\n",
       "    }\n",
       "\n",
       "    .dataframe tbody tr th {\n",
       "        vertical-align: top;\n",
       "    }\n",
       "</style>\n",
       "<table border=\"1\" class=\"dataframe\">\n",
       "  <thead>\n",
       "    <tr style=\"text-align: right;\">\n",
       "      <th></th>\n",
       "      <th>hubid</th>\n",
       "      <th>pickuppartnerid</th>\n",
       "      <th>deliverypartnerid</th>\n",
       "      <th>insuranceCompanyId</th>\n",
       "      <th>custpincode</th>\n",
       "      <th>servicecntrid</th>\n",
       "      <th>tat_in_days</th>\n",
       "      <th>cat_claim</th>\n",
       "      <th>cat_custpincodecategory</th>\n",
       "      <th>cat_mobmake</th>\n",
       "      <th>claimintdate_month</th>\n",
       "      <th>pickupstartdate_month</th>\n",
       "    </tr>\n",
       "  </thead>\n",
       "  <tbody>\n",
       "    <tr>\n",
       "      <th>0</th>\n",
       "      <td>7</td>\n",
       "      <td>233</td>\n",
       "      <td>233</td>\n",
       "      <td>131</td>\n",
       "      <td>500001</td>\n",
       "      <td>4403</td>\n",
       "      <td>5</td>\n",
       "      <td>1</td>\n",
       "      <td>1</td>\n",
       "      <td>19</td>\n",
       "      <td>2</td>\n",
       "      <td>2</td>\n",
       "    </tr>\n",
       "    <tr>\n",
       "      <th>1</th>\n",
       "      <td>10</td>\n",
       "      <td>233</td>\n",
       "      <td>233</td>\n",
       "      <td>131</td>\n",
       "      <td>226022</td>\n",
       "      <td>4444</td>\n",
       "      <td>12</td>\n",
       "      <td>1</td>\n",
       "      <td>1</td>\n",
       "      <td>11</td>\n",
       "      <td>2</td>\n",
       "      <td>2</td>\n",
       "    </tr>\n",
       "    <tr>\n",
       "      <th>2</th>\n",
       "      <td>2</td>\n",
       "      <td>233</td>\n",
       "      <td>233</td>\n",
       "      <td>228</td>\n",
       "      <td>110018</td>\n",
       "      <td>4388</td>\n",
       "      <td>9</td>\n",
       "      <td>1</td>\n",
       "      <td>1</td>\n",
       "      <td>11</td>\n",
       "      <td>2</td>\n",
       "      <td>2</td>\n",
       "    </tr>\n",
       "    <tr>\n",
       "      <th>3</th>\n",
       "      <td>2</td>\n",
       "      <td>233</td>\n",
       "      <td>233</td>\n",
       "      <td>228</td>\n",
       "      <td>124001</td>\n",
       "      <td>4092</td>\n",
       "      <td>9</td>\n",
       "      <td>1</td>\n",
       "      <td>2</td>\n",
       "      <td>5</td>\n",
       "      <td>2</td>\n",
       "      <td>2</td>\n",
       "    </tr>\n",
       "    <tr>\n",
       "      <th>4</th>\n",
       "      <td>21</td>\n",
       "      <td>233</td>\n",
       "      <td>233</td>\n",
       "      <td>131</td>\n",
       "      <td>201301</td>\n",
       "      <td>4580</td>\n",
       "      <td>8</td>\n",
       "      <td>1</td>\n",
       "      <td>1</td>\n",
       "      <td>19</td>\n",
       "      <td>2</td>\n",
       "      <td>2</td>\n",
       "    </tr>\n",
       "  </tbody>\n",
       "</table>\n",
       "</div>"
      ],
      "text/plain": [
       "   hubid  pickuppartnerid  deliverypartnerid  insuranceCompanyId  custpincode  \\\n",
       "0      7              233                233                 131       500001   \n",
       "1     10              233                233                 131       226022   \n",
       "2      2              233                233                 228       110018   \n",
       "3      2              233                233                 228       124001   \n",
       "4     21              233                233                 131       201301   \n",
       "\n",
       "   servicecntrid  tat_in_days  cat_claim  cat_custpincodecategory  \\\n",
       "0           4403            5          1                        1   \n",
       "1           4444           12          1                        1   \n",
       "2           4388            9          1                        1   \n",
       "3           4092            9          1                        2   \n",
       "4           4580            8          1                        1   \n",
       "\n",
       "   cat_mobmake  claimintdate_month  pickupstartdate_month  \n",
       "0           19                   2                      2  \n",
       "1           11                   2                      2  \n",
       "2           11                   2                      2  \n",
       "3            5                   2                      2  \n",
       "4           19                   2                      2  "
      ]
     },
     "execution_count": 906,
     "metadata": {},
     "output_type": "execute_result"
    }
   ],
   "source": [
    "data.head()"
   ]
  },
  {
   "cell_type": "code",
   "execution_count": 907,
   "metadata": {},
   "outputs": [
    {
     "data": {
      "text/plain": [
       "Index(['hubid', 'pickuppartnerid', 'deliverypartnerid', 'insuranceCompanyId',\n",
       "       'custpincode', 'servicecntrid', 'tat_in_days', 'cat_claim',\n",
       "       'cat_custpincodecategory', 'cat_mobmake', 'claimintdate_month',\n",
       "       'pickupstartdate_month'],\n",
       "      dtype='object')"
      ]
     },
     "execution_count": 907,
     "metadata": {},
     "output_type": "execute_result"
    }
   ],
   "source": [
    "data.columns"
   ]
  },
  {
   "cell_type": "markdown",
   "metadata": {},
   "source": [
    "TRY 1"
   ]
  },
  {
   "cell_type": "code",
   "execution_count": 908,
   "metadata": {
    "collapsed": true
   },
   "outputs": [],
   "source": [
    "data2 = data"
   ]
  },
  {
   "cell_type": "code",
   "execution_count": 909,
   "metadata": {
    "collapsed": true
   },
   "outputs": [],
   "source": [
    "X = data2.iloc[:,[0,1,2,3,4,5,7,8,9,10,11]].values\n",
    "y = data2.iloc[:,6].values"
   ]
  },
  {
   "cell_type": "code",
   "execution_count": 910,
   "metadata": {},
   "outputs": [
    {
     "data": {
      "text/plain": [
       "((4687, 11), (1563, 11), (4687,), (1563,))"
      ]
     },
     "execution_count": 910,
     "metadata": {},
     "output_type": "execute_result"
    }
   ],
   "source": [
    "X_train, X_test, y_train, y_test = train_test_split(X, y, test_size = 0.25, random_state = 0)\n",
    "X_train.shape, X_test.shape, y_train.shape, y_test.shape"
   ]
  },
  {
   "cell_type": "code",
   "execution_count": 911,
   "metadata": {
    "collapsed": true
   },
   "outputs": [],
   "source": [
    "def rmse(predictions, targets):\n",
    "    return np.sqrt(((predictions - targets) ** 2).mean())"
   ]
  },
  {
   "cell_type": "code",
   "execution_count": 912,
   "metadata": {},
   "outputs": [],
   "source": [
    "def regression_rmse(X_train, X_test, y_train, y_test):\n",
    "    lin = LinearRegression() \n",
    "    lin.fit(X_train, y_train) \n",
    "    y_pred1 = lin.predict(X_test)\n",
    "    print(\"LINEAR REGRESSION : \")\n",
    "    print(\"  TEST SET ERROR : \",rmse(y_pred1, y_test))\n",
    "    print(\"  TRAINING SET ERROR : \", rmse(lin.predict(X_train), y_train))\n",
    "     \n",
    "    poly = PolynomialFeatures(degree = 2) \n",
    "    X_poly = poly.fit_transform(X_train) \n",
    "    poly.fit(X_poly, y_train) \n",
    "    lin2 = LinearRegression() \n",
    "    lin2.fit(X_poly, y_train) \n",
    "    y_pred2 = lin2.predict(poly.fit_transform(X_test))\n",
    "    print(\"POLYNOMIAL REGRESSION WITH DEGREE 2 : \")\n",
    "    print(\"  TEST SET ERROR : \",rmse(y_pred2, y_test))\n",
    "    #print(\"  TRAINING SET ERROR : \", rmse(lin2.predict(X_train), y_train))\n",
    "    \n",
    "    poly = PolynomialFeatures(degree = 3) \n",
    "    X_poly = poly.fit_transform(X_train) \n",
    "    poly.fit(X_poly, y_train) \n",
    "    lin3 = LinearRegression() \n",
    "    lin3.fit(X_poly, y_train) \n",
    "    y_pred3 = lin3.predict(poly.fit_transform(X_test))\n",
    "    print(\"POLYNOMIAL REGRESSION WITH DEGREE 3 : \")\n",
    "    print(\"  TEST SET ERROR : \",rmse(y_pred3, y_test))\n",
    "    #print(\"  TRAINING SET ERROR : \", rmse(lin3.predict(X_train), y_train))\n",
    "    \n",
    "    for i in range(1,15):\n",
    "        dt = DecisionTreeRegressor(random_state = 0, max_depth =i)\n",
    "        dt.fit(X_train, y_train)\n",
    "        y_pred4 = dt.predict(X_test)\n",
    "        print(i, \"  DECISION TREE REGRESSION  : \", rmse(y_pred4, y_test))\n",
    "        print(\"  DECISION TREE TRAINING SET ERROR : \", rmse(dt.predict(X_train), y_train))\n",
    "        accuracies1 = cross_val_score(estimator = dt, X = X_train, y = y_train, cv = 10)\n",
    "        print(\"Cross Validation Accuracy: %0.2f (+/- %0.2f)\" % (accuracies1.mean(), accuracies1.std() * 2))"
   ]
  },
  {
   "cell_type": "code",
   "execution_count": 913,
   "metadata": {},
   "outputs": [
    {
     "name": "stdout",
     "output_type": "stream",
     "text": [
      "LINEAR REGRESSION : \n",
      "  TEST SET ERROR :  4.864449937577911\n",
      "  TRAINING SET ERROR :  4.7606343596606004\n",
      "POLYNOMIAL REGRESSION WITH DEGREE 2 : \n",
      "  TEST SET ERROR :  4.6957370203760505\n",
      "POLYNOMIAL REGRESSION WITH DEGREE 3 : \n",
      "  TEST SET ERROR :  4.875476132672365\n",
      "1   DECISION TREE REGRESSION  :  5.049427880556843\n",
      "  DECISION TREE TRAINING SET ERROR :  4.914430696817897\n",
      "Cross Validation Accuracy: 0.02 (+/- 0.05)\n",
      "2   DECISION TREE REGRESSION  :  4.931385213226845\n",
      "  DECISION TREE TRAINING SET ERROR :  4.783241407511831\n",
      "Cross Validation Accuracy: 0.07 (+/- 0.08)\n",
      "3   DECISION TREE REGRESSION  :  4.818261760948854\n",
      "  DECISION TREE TRAINING SET ERROR :  4.635090878247159\n",
      "Cross Validation Accuracy: 0.12 (+/- 0.08)\n",
      "4   DECISION TREE REGRESSION  :  4.653739649286562\n",
      "  DECISION TREE TRAINING SET ERROR :  4.474781518528367\n",
      "Cross Validation Accuracy: 0.17 (+/- 0.08)\n",
      "5   DECISION TREE REGRESSION  :  4.579593562181838\n",
      "  DECISION TREE TRAINING SET ERROR :  4.319124096943415\n",
      "Cross Validation Accuracy: 0.20 (+/- 0.11)\n",
      "6   DECISION TREE REGRESSION  :  4.573473833953823\n",
      "  DECISION TREE TRAINING SET ERROR :  4.214843665552742\n",
      "Cross Validation Accuracy: 0.20 (+/- 0.13)\n",
      "7   DECISION TREE REGRESSION  :  4.532376119988193\n",
      "  DECISION TREE TRAINING SET ERROR :  4.079531268472933\n",
      "Cross Validation Accuracy: 0.20 (+/- 0.11)\n",
      "8   DECISION TREE REGRESSION  :  4.588045187701323\n",
      "  DECISION TREE TRAINING SET ERROR :  3.916940055876071\n",
      "Cross Validation Accuracy: 0.16 (+/- 0.20)\n",
      "9   DECISION TREE REGRESSION  :  4.631190894667402\n",
      "  DECISION TREE TRAINING SET ERROR :  3.772170294560104\n",
      "Cross Validation Accuracy: 0.15 (+/- 0.17)\n",
      "10   DECISION TREE REGRESSION  :  4.63119834935248\n",
      "  DECISION TREE TRAINING SET ERROR :  3.601023927582207\n",
      "Cross Validation Accuracy: 0.12 (+/- 0.18)\n",
      "11   DECISION TREE REGRESSION  :  4.77278985407035\n",
      "  DECISION TREE TRAINING SET ERROR :  3.426614540520694\n",
      "Cross Validation Accuracy: 0.07 (+/- 0.21)\n",
      "12   DECISION TREE REGRESSION  :  4.9645536301273125\n",
      "  DECISION TREE TRAINING SET ERROR :  3.256942261462435\n",
      "Cross Validation Accuracy: 0.02 (+/- 0.23)\n",
      "13   DECISION TREE REGRESSION  :  5.026561139629544\n",
      "  DECISION TREE TRAINING SET ERROR :  3.0631801585816905\n",
      "Cross Validation Accuracy: -0.00 (+/- 0.20)\n",
      "14   DECISION TREE REGRESSION  :  5.085798697704619\n",
      "  DECISION TREE TRAINING SET ERROR :  2.8998987269758496\n",
      "Cross Validation Accuracy: -0.08 (+/- 0.25)\n"
     ]
    }
   ],
   "source": [
    "regression_rmse(X_train, X_test, y_train, y_test)"
   ]
  },
  {
   "cell_type": "markdown",
   "metadata": {},
   "source": [
    "TRY 2"
   ]
  },
  {
   "cell_type": "code",
   "execution_count": 914,
   "metadata": {},
   "outputs": [],
   "source": [
    "data3 = data"
   ]
  },
  {
   "cell_type": "code",
   "execution_count": 915,
   "metadata": {},
   "outputs": [
    {
     "data": {
      "text/html": [
       "<div>\n",
       "<style>\n",
       "    .dataframe thead tr:only-child th {\n",
       "        text-align: right;\n",
       "    }\n",
       "\n",
       "    .dataframe thead th {\n",
       "        text-align: left;\n",
       "    }\n",
       "\n",
       "    .dataframe tbody tr th {\n",
       "        vertical-align: top;\n",
       "    }\n",
       "</style>\n",
       "<table border=\"1\" class=\"dataframe\">\n",
       "  <thead>\n",
       "    <tr style=\"text-align: right;\">\n",
       "      <th></th>\n",
       "      <th>hubid</th>\n",
       "      <th>pickuppartnerid</th>\n",
       "      <th>deliverypartnerid</th>\n",
       "      <th>insuranceCompanyId</th>\n",
       "      <th>custpincode</th>\n",
       "      <th>servicecntrid</th>\n",
       "      <th>tat_in_days</th>\n",
       "      <th>cat_claim</th>\n",
       "      <th>cat_custpincodecategory</th>\n",
       "      <th>cat_mobmake</th>\n",
       "      <th>claimintdate_month</th>\n",
       "      <th>pickupstartdate_month</th>\n",
       "    </tr>\n",
       "  </thead>\n",
       "  <tbody>\n",
       "    <tr>\n",
       "      <th>0</th>\n",
       "      <td>7</td>\n",
       "      <td>233</td>\n",
       "      <td>233</td>\n",
       "      <td>131</td>\n",
       "      <td>500001</td>\n",
       "      <td>4403</td>\n",
       "      <td>5</td>\n",
       "      <td>1</td>\n",
       "      <td>1</td>\n",
       "      <td>19</td>\n",
       "      <td>2</td>\n",
       "      <td>2</td>\n",
       "    </tr>\n",
       "    <tr>\n",
       "      <th>1</th>\n",
       "      <td>10</td>\n",
       "      <td>233</td>\n",
       "      <td>233</td>\n",
       "      <td>131</td>\n",
       "      <td>226022</td>\n",
       "      <td>4444</td>\n",
       "      <td>12</td>\n",
       "      <td>1</td>\n",
       "      <td>1</td>\n",
       "      <td>11</td>\n",
       "      <td>2</td>\n",
       "      <td>2</td>\n",
       "    </tr>\n",
       "    <tr>\n",
       "      <th>2</th>\n",
       "      <td>2</td>\n",
       "      <td>233</td>\n",
       "      <td>233</td>\n",
       "      <td>228</td>\n",
       "      <td>110018</td>\n",
       "      <td>4388</td>\n",
       "      <td>9</td>\n",
       "      <td>1</td>\n",
       "      <td>1</td>\n",
       "      <td>11</td>\n",
       "      <td>2</td>\n",
       "      <td>2</td>\n",
       "    </tr>\n",
       "    <tr>\n",
       "      <th>3</th>\n",
       "      <td>2</td>\n",
       "      <td>233</td>\n",
       "      <td>233</td>\n",
       "      <td>228</td>\n",
       "      <td>124001</td>\n",
       "      <td>4092</td>\n",
       "      <td>9</td>\n",
       "      <td>1</td>\n",
       "      <td>2</td>\n",
       "      <td>5</td>\n",
       "      <td>2</td>\n",
       "      <td>2</td>\n",
       "    </tr>\n",
       "    <tr>\n",
       "      <th>4</th>\n",
       "      <td>21</td>\n",
       "      <td>233</td>\n",
       "      <td>233</td>\n",
       "      <td>131</td>\n",
       "      <td>201301</td>\n",
       "      <td>4580</td>\n",
       "      <td>8</td>\n",
       "      <td>1</td>\n",
       "      <td>1</td>\n",
       "      <td>19</td>\n",
       "      <td>2</td>\n",
       "      <td>2</td>\n",
       "    </tr>\n",
       "  </tbody>\n",
       "</table>\n",
       "</div>"
      ],
      "text/plain": [
       "   hubid  pickuppartnerid  deliverypartnerid  insuranceCompanyId  custpincode  \\\n",
       "0      7              233                233                 131       500001   \n",
       "1     10              233                233                 131       226022   \n",
       "2      2              233                233                 228       110018   \n",
       "3      2              233                233                 228       124001   \n",
       "4     21              233                233                 131       201301   \n",
       "\n",
       "   servicecntrid  tat_in_days  cat_claim  cat_custpincodecategory  \\\n",
       "0           4403            5          1                        1   \n",
       "1           4444           12          1                        1   \n",
       "2           4388            9          1                        1   \n",
       "3           4092            9          1                        2   \n",
       "4           4580            8          1                        1   \n",
       "\n",
       "   cat_mobmake  claimintdate_month  pickupstartdate_month  \n",
       "0           19                   2                      2  \n",
       "1           11                   2                      2  \n",
       "2           11                   2                      2  \n",
       "3            5                   2                      2  \n",
       "4           19                   2                      2  "
      ]
     },
     "execution_count": 915,
     "metadata": {},
     "output_type": "execute_result"
    }
   ],
   "source": [
    "data3.head()"
   ]
  },
  {
   "cell_type": "code",
   "execution_count": 916,
   "metadata": {},
   "outputs": [
    {
     "data": {
      "image/png": "[encoded data removed]",
      "text/plain": [
       "<Figure size 432x288 with 2 Axes>"
      ]
     },
     "metadata": {},
     "output_type": "display_data"
    }
   ],
   "source": [
    "cor = data3.corr()\n",
    "sns.heatmap(cor, square = True, cmap = 'YlGnBu')\n",
    "plt.yticks(rotation = 0)\n",
    "plt.xticks(rotation = 90)\n",
    "plt.show()"
   ]
  },
  {
   "cell_type": "code",
   "execution_count": 917,
   "metadata": {},
   "outputs": [],
   "source": [
    "data3.drop(['pickuppartnerid','insuranceCompanyId'], inplace  =True, axis=1)"
   ]
  },
  {
   "cell_type": "code",
   "execution_count": 918,
   "metadata": {},
   "outputs": [
    {
     "data": {
      "text/html": [
       "<div>\n",
       "<style>\n",
       "    .dataframe thead tr:only-child th {\n",
       "        text-align: right;\n",
       "    }\n",
       "\n",
       "    .dataframe thead th {\n",
       "        text-align: left;\n",
       "    }\n",
       "\n",
       "    .dataframe tbody tr th {\n",
       "        vertical-align: top;\n",
       "    }\n",
       "</style>\n",
       "<table border=\"1\" class=\"dataframe\">\n",
       "  <thead>\n",
       "    <tr style=\"text-align: right;\">\n",
       "      <th></th>\n",
       "      <th>hubid</th>\n",
       "      <th>deliverypartnerid</th>\n",
       "      <th>custpincode</th>\n",
       "      <th>servicecntrid</th>\n",
       "      <th>tat_in_days</th>\n",
       "      <th>cat_claim</th>\n",
       "      <th>cat_custpincodecategory</th>\n",
       "      <th>cat_mobmake</th>\n",
       "      <th>claimintdate_month</th>\n",
       "      <th>pickupstartdate_month</th>\n",
       "    </tr>\n",
       "  </thead>\n",
       "  <tbody>\n",
       "    <tr>\n",
       "      <th>0</th>\n",
       "      <td>7</td>\n",
       "      <td>233</td>\n",
       "      <td>500001</td>\n",
       "      <td>4403</td>\n",
       "      <td>5</td>\n",
       "      <td>1</td>\n",
       "      <td>1</td>\n",
       "      <td>19</td>\n",
       "      <td>2</td>\n",
       "      <td>2</td>\n",
       "    </tr>\n",
       "    <tr>\n",
       "      <th>1</th>\n",
       "      <td>10</td>\n",
       "      <td>233</td>\n",
       "      <td>226022</td>\n",
       "      <td>4444</td>\n",
       "      <td>12</td>\n",
       "      <td>1</td>\n",
       "      <td>1</td>\n",
       "      <td>11</td>\n",
       "      <td>2</td>\n",
       "      <td>2</td>\n",
       "    </tr>\n",
       "    <tr>\n",
       "      <th>2</th>\n",
       "      <td>2</td>\n",
       "      <td>233</td>\n",
       "      <td>110018</td>\n",
       "      <td>4388</td>\n",
       "      <td>9</td>\n",
       "      <td>1</td>\n",
       "      <td>1</td>\n",
       "      <td>11</td>\n",
       "      <td>2</td>\n",
       "      <td>2</td>\n",
       "    </tr>\n",
       "    <tr>\n",
       "      <th>3</th>\n",
       "      <td>2</td>\n",
       "      <td>233</td>\n",
       "      <td>124001</td>\n",
       "      <td>4092</td>\n",
       "      <td>9</td>\n",
       "      <td>1</td>\n",
       "      <td>2</td>\n",
       "      <td>5</td>\n",
       "      <td>2</td>\n",
       "      <td>2</td>\n",
       "    </tr>\n",
       "    <tr>\n",
       "      <th>4</th>\n",
       "      <td>21</td>\n",
       "      <td>233</td>\n",
       "      <td>201301</td>\n",
       "      <td>4580</td>\n",
       "      <td>8</td>\n",
       "      <td>1</td>\n",
       "      <td>1</td>\n",
       "      <td>19</td>\n",
       "      <td>2</td>\n",
       "      <td>2</td>\n",
       "    </tr>\n",
       "  </tbody>\n",
       "</table>\n",
       "</div>"
      ],
      "text/plain": [
       "   hubid  deliverypartnerid  custpincode  servicecntrid  tat_in_days  \\\n",
       "0      7                233       500001           4403            5   \n",
       "1     10                233       226022           4444           12   \n",
       "2      2                233       110018           4388            9   \n",
       "3      2                233       124001           4092            9   \n",
       "4     21                233       201301           4580            8   \n",
       "\n",
       "   cat_claim  cat_custpincodecategory  cat_mobmake  claimintdate_month  \\\n",
       "0          1                        1           19                   2   \n",
       "1          1                        1           11                   2   \n",
       "2          1                        1           11                   2   \n",
       "3          1                        2            5                   2   \n",
       "4          1                        1           19                   2   \n",
       "\n",
       "   pickupstartdate_month  \n",
       "0                      2  \n",
       "1                      2  \n",
       "2                      2  \n",
       "3                      2  \n",
       "4                      2  "
      ]
     },
     "execution_count": 918,
     "metadata": {},
     "output_type": "execute_result"
    }
   ],
   "source": [
    "data3.head()"
   ]
  },
  {
   "cell_type": "code",
   "execution_count": 919,
   "metadata": {},
   "outputs": [
    {
     "data": {
      "text/plain": [
       "Index(['hubid', 'deliverypartnerid', 'custpincode', 'servicecntrid',\n",
       "       'tat_in_days', 'cat_claim', 'cat_custpincodecategory', 'cat_mobmake',\n",
       "       'claimintdate_month', 'pickupstartdate_month'],\n",
       "      dtype='object')"
      ]
     },
     "execution_count": 919,
     "metadata": {},
     "output_type": "execute_result"
    }
   ],
   "source": [
    "data3.columns"
   ]
  },
  {
   "cell_type": "code",
   "execution_count": 920,
   "metadata": {
    "collapsed": true
   },
   "outputs": [],
   "source": [
    "X2 = data3.iloc[:,[0,1,2,3,5,6,7,8,9]].values\n",
    "y2 = data3.iloc[:,4].values"
   ]
  },
  {
   "cell_type": "code",
   "execution_count": 921,
   "metadata": {},
   "outputs": [
    {
     "data": {
      "text/plain": [
       "((4687, 9), (1563, 9), (4687,), (1563,))"
      ]
     },
     "execution_count": 921,
     "metadata": {},
     "output_type": "execute_result"
    }
   ],
   "source": [
    "X_train, X_test, y_train, y_test = train_test_split(X2, y2, test_size = 0.25, random_state = 0)\n",
    "X_train.shape, X_test.shape, y_train.shape, y_test.shape"
   ]
  },
  {
   "cell_type": "code",
   "execution_count": 922,
   "metadata": {},
   "outputs": [
    {
     "name": "stdout",
     "output_type": "stream",
     "text": [
      "LINEAR REGRESSION : \n",
      "  TEST SET ERROR :  4.872856420805224\n",
      "  TRAINING SET ERROR :  4.766132793190765\n",
      "POLYNOMIAL REGRESSION WITH DEGREE 2 : \n",
      "  TEST SET ERROR :  4.695653845763959\n",
      "POLYNOMIAL REGRESSION WITH DEGREE 3 : \n",
      "  TEST SET ERROR :  4.621367580109453\n",
      "1   DECISION TREE REGRESSION  :  5.049427880556843\n",
      "  DECISION TREE TRAINING SET ERROR :  4.914430696817897\n",
      "Cross Validation Accuracy: 0.02 (+/- 0.05)\n",
      "2   DECISION TREE REGRESSION  :  4.931385213226845\n",
      "  DECISION TREE TRAINING SET ERROR :  4.783241407511831\n",
      "Cross Validation Accuracy: 0.07 (+/- 0.08)\n",
      "3   DECISION TREE REGRESSION  :  4.818261760948854\n",
      "  DECISION TREE TRAINING SET ERROR :  4.635090878247159\n",
      "Cross Validation Accuracy: 0.12 (+/- 0.08)\n",
      "4   DECISION TREE REGRESSION  :  4.653739649286562\n",
      "  DECISION TREE TRAINING SET ERROR :  4.474781518528367\n",
      "Cross Validation Accuracy: 0.17 (+/- 0.09)\n",
      "5   DECISION TREE REGRESSION  :  4.574872341231527\n",
      "  DECISION TREE TRAINING SET ERROR :  4.319548663853832\n",
      "Cross Validation Accuracy: 0.21 (+/- 0.11)\n",
      "6   DECISION TREE REGRESSION  :  4.562538604616791\n",
      "  DECISION TREE TRAINING SET ERROR :  4.214317721649136\n",
      "Cross Validation Accuracy: 0.20 (+/- 0.12)\n",
      "7   DECISION TREE REGRESSION  :  4.538537136443975\n",
      "  DECISION TREE TRAINING SET ERROR :  4.08097741124865\n",
      "Cross Validation Accuracy: 0.20 (+/- 0.12)\n",
      "8   DECISION TREE REGRESSION  :  4.569907298583046\n",
      "  DECISION TREE TRAINING SET ERROR :  3.9096283237480187\n",
      "Cross Validation Accuracy: 0.17 (+/- 0.20)\n",
      "9   DECISION TREE REGRESSION  :  4.571520056021896\n",
      "  DECISION TREE TRAINING SET ERROR :  3.773723303021398\n",
      "Cross Validation Accuracy: 0.14 (+/- 0.19)\n",
      "10   DECISION TREE REGRESSION  :  4.621504191119111\n",
      "  DECISION TREE TRAINING SET ERROR :  3.6186185519153296\n",
      "Cross Validation Accuracy: 0.11 (+/- 0.20)\n",
      "11   DECISION TREE REGRESSION  :  4.805949085261352\n",
      "  DECISION TREE TRAINING SET ERROR :  3.4651532643337277\n",
      "Cross Validation Accuracy: 0.10 (+/- 0.19)\n",
      "12   DECISION TREE REGRESSION  :  4.888440606829533\n",
      "  DECISION TREE TRAINING SET ERROR :  3.3062703242311655\n",
      "Cross Validation Accuracy: 0.05 (+/- 0.17)\n",
      "13   DECISION TREE REGRESSION  :  4.9427483547938325\n",
      "  DECISION TREE TRAINING SET ERROR :  3.0948020784650176\n",
      "Cross Validation Accuracy: -0.01 (+/- 0.20)\n",
      "14   DECISION TREE REGRESSION  :  5.08632733539943\n",
      "  DECISION TREE TRAINING SET ERROR :  2.9220407616309245\n",
      "Cross Validation Accuracy: -0.04 (+/- 0.23)\n"
     ]
    }
   ],
   "source": [
    "regression_rmse(X_train, X_test, y_train, y_test)"
   ]
  },
  {
   "cell_type": "markdown",
   "metadata": {},
   "source": [
    "TRY 3"
   ]
  },
  {
   "cell_type": "code",
   "execution_count": 923,
   "metadata": {
    "collapsed": true
   },
   "outputs": [],
   "source": [
    "data4 = data"
   ]
  },
  {
   "cell_type": "code",
   "execution_count": 924,
   "metadata": {},
   "outputs": [
    {
     "data": {
      "text/html": [
       "<div>\n",
       "<style>\n",
       "    .dataframe thead tr:only-child th {\n",
       "        text-align: right;\n",
       "    }\n",
       "\n",
       "    .dataframe thead th {\n",
       "        text-align: left;\n",
       "    }\n",
       "\n",
       "    .dataframe tbody tr th {\n",
       "        vertical-align: top;\n",
       "    }\n",
       "</style>\n",
       "<table border=\"1\" class=\"dataframe\">\n",
       "  <thead>\n",
       "    <tr style=\"text-align: right;\">\n",
       "      <th></th>\n",
       "      <th>hubid</th>\n",
       "      <th>deliverypartnerid</th>\n",
       "      <th>custpincode</th>\n",
       "      <th>servicecntrid</th>\n",
       "      <th>tat_in_days</th>\n",
       "      <th>cat_claim</th>\n",
       "      <th>cat_custpincodecategory</th>\n",
       "      <th>cat_mobmake</th>\n",
       "      <th>claimintdate_month</th>\n",
       "      <th>pickupstartdate_month</th>\n",
       "    </tr>\n",
       "  </thead>\n",
       "  <tbody>\n",
       "    <tr>\n",
       "      <th>0</th>\n",
       "      <td>7</td>\n",
       "      <td>233</td>\n",
       "      <td>500001</td>\n",
       "      <td>4403</td>\n",
       "      <td>5</td>\n",
       "      <td>1</td>\n",
       "      <td>1</td>\n",
       "      <td>19</td>\n",
       "      <td>2</td>\n",
       "      <td>2</td>\n",
       "    </tr>\n",
       "    <tr>\n",
       "      <th>1</th>\n",
       "      <td>10</td>\n",
       "      <td>233</td>\n",
       "      <td>226022</td>\n",
       "      <td>4444</td>\n",
       "      <td>12</td>\n",
       "      <td>1</td>\n",
       "      <td>1</td>\n",
       "      <td>11</td>\n",
       "      <td>2</td>\n",
       "      <td>2</td>\n",
       "    </tr>\n",
       "    <tr>\n",
       "      <th>2</th>\n",
       "      <td>2</td>\n",
       "      <td>233</td>\n",
       "      <td>110018</td>\n",
       "      <td>4388</td>\n",
       "      <td>9</td>\n",
       "      <td>1</td>\n",
       "      <td>1</td>\n",
       "      <td>11</td>\n",
       "      <td>2</td>\n",
       "      <td>2</td>\n",
       "    </tr>\n",
       "    <tr>\n",
       "      <th>3</th>\n",
       "      <td>2</td>\n",
       "      <td>233</td>\n",
       "      <td>124001</td>\n",
       "      <td>4092</td>\n",
       "      <td>9</td>\n",
       "      <td>1</td>\n",
       "      <td>2</td>\n",
       "      <td>5</td>\n",
       "      <td>2</td>\n",
       "      <td>2</td>\n",
       "    </tr>\n",
       "    <tr>\n",
       "      <th>4</th>\n",
       "      <td>21</td>\n",
       "      <td>233</td>\n",
       "      <td>201301</td>\n",
       "      <td>4580</td>\n",
       "      <td>8</td>\n",
       "      <td>1</td>\n",
       "      <td>1</td>\n",
       "      <td>19</td>\n",
       "      <td>2</td>\n",
       "      <td>2</td>\n",
       "    </tr>\n",
       "  </tbody>\n",
       "</table>\n",
       "</div>"
      ],
      "text/plain": [
       "   hubid  deliverypartnerid  custpincode  servicecntrid  tat_in_days  \\\n",
       "0      7                233       500001           4403            5   \n",
       "1     10                233       226022           4444           12   \n",
       "2      2                233       110018           4388            9   \n",
       "3      2                233       124001           4092            9   \n",
       "4     21                233       201301           4580            8   \n",
       "\n",
       "   cat_claim  cat_custpincodecategory  cat_mobmake  claimintdate_month  \\\n",
       "0          1                        1           19                   2   \n",
       "1          1                        1           11                   2   \n",
       "2          1                        1           11                   2   \n",
       "3          1                        2            5                   2   \n",
       "4          1                        1           19                   2   \n",
       "\n",
       "   pickupstartdate_month  \n",
       "0                      2  \n",
       "1                      2  \n",
       "2                      2  \n",
       "3                      2  \n",
       "4                      2  "
      ]
     },
     "execution_count": 924,
     "metadata": {},
     "output_type": "execute_result"
    }
   ],
   "source": [
    "data4.head()"
   ]
  },
  {
   "cell_type": "code",
   "execution_count": 925,
   "metadata": {},
   "outputs": [],
   "source": [
    "data4.drop(['hubid','deliverypartnerid'], inplace =True, axis = 1)"
   ]
  },
  {
   "cell_type": "code",
   "execution_count": 926,
   "metadata": {},
   "outputs": [
    {
     "data": {
      "text/html": [
       "<div>\n",
       "<style>\n",
       "    .dataframe thead tr:only-child th {\n",
       "        text-align: right;\n",
       "    }\n",
       "\n",
       "    .dataframe thead th {\n",
       "        text-align: left;\n",
       "    }\n",
       "\n",
       "    .dataframe tbody tr th {\n",
       "        vertical-align: top;\n",
       "    }\n",
       "</style>\n",
       "<table border=\"1\" class=\"dataframe\">\n",
       "  <thead>\n",
       "    <tr style=\"text-align: right;\">\n",
       "      <th></th>\n",
       "      <th>custpincode</th>\n",
       "      <th>servicecntrid</th>\n",
       "      <th>tat_in_days</th>\n",
       "      <th>cat_claim</th>\n",
       "      <th>cat_custpincodecategory</th>\n",
       "      <th>cat_mobmake</th>\n",
       "      <th>claimintdate_month</th>\n",
       "      <th>pickupstartdate_month</th>\n",
       "    </tr>\n",
       "  </thead>\n",
       "  <tbody>\n",
       "    <tr>\n",
       "      <th>0</th>\n",
       "      <td>500001</td>\n",
       "      <td>4403</td>\n",
       "      <td>5</td>\n",
       "      <td>1</td>\n",
       "      <td>1</td>\n",
       "      <td>19</td>\n",
       "      <td>2</td>\n",
       "      <td>2</td>\n",
       "    </tr>\n",
       "    <tr>\n",
       "      <th>1</th>\n",
       "      <td>226022</td>\n",
       "      <td>4444</td>\n",
       "      <td>12</td>\n",
       "      <td>1</td>\n",
       "      <td>1</td>\n",
       "      <td>11</td>\n",
       "      <td>2</td>\n",
       "      <td>2</td>\n",
       "    </tr>\n",
       "    <tr>\n",
       "      <th>2</th>\n",
       "      <td>110018</td>\n",
       "      <td>4388</td>\n",
       "      <td>9</td>\n",
       "      <td>1</td>\n",
       "      <td>1</td>\n",
       "      <td>11</td>\n",
       "      <td>2</td>\n",
       "      <td>2</td>\n",
       "    </tr>\n",
       "    <tr>\n",
       "      <th>3</th>\n",
       "      <td>124001</td>\n",
       "      <td>4092</td>\n",
       "      <td>9</td>\n",
       "      <td>1</td>\n",
       "      <td>2</td>\n",
       "      <td>5</td>\n",
       "      <td>2</td>\n",
       "      <td>2</td>\n",
       "    </tr>\n",
       "    <tr>\n",
       "      <th>4</th>\n",
       "      <td>201301</td>\n",
       "      <td>4580</td>\n",
       "      <td>8</td>\n",
       "      <td>1</td>\n",
       "      <td>1</td>\n",
       "      <td>19</td>\n",
       "      <td>2</td>\n",
       "      <td>2</td>\n",
       "    </tr>\n",
       "  </tbody>\n",
       "</table>\n",
       "</div>"
      ],
      "text/plain": [
       "   custpincode  servicecntrid  tat_in_days  cat_claim  \\\n",
       "0       500001           4403            5          1   \n",
       "1       226022           4444           12          1   \n",
       "2       110018           4388            9          1   \n",
       "3       124001           4092            9          1   \n",
       "4       201301           4580            8          1   \n",
       "\n",
       "   cat_custpincodecategory  cat_mobmake  claimintdate_month  \\\n",
       "0                        1           19                   2   \n",
       "1                        1           11                   2   \n",
       "2                        1           11                   2   \n",
       "3                        2            5                   2   \n",
       "4                        1           19                   2   \n",
       "\n",
       "   pickupstartdate_month  \n",
       "0                      2  \n",
       "1                      2  \n",
       "2                      2  \n",
       "3                      2  \n",
       "4                      2  "
      ]
     },
     "execution_count": 926,
     "metadata": {},
     "output_type": "execute_result"
    }
   ],
   "source": [
    "data4.head()"
   ]
  },
  {
   "cell_type": "code",
   "execution_count": 927,
   "metadata": {},
   "outputs": [
    {
     "data": {
      "image/png": "[encoded data removed]",
      "text/plain": [
       "<Figure size 432x288 with 2 Axes>"
      ]
     },
     "metadata": {},
     "output_type": "display_data"
    }
   ],
   "source": [
    "cor = data4.corr()\n",
    "sns.heatmap(cor, square = True, cmap = 'YlGnBu')\n",
    "plt.yticks(rotation = 0)\n",
    "plt.xticks(rotation = 90)\n",
    "plt.show()"
   ]
  },
  {
   "cell_type": "code",
   "execution_count": 928,
   "metadata": {
    "collapsed": true
   },
   "outputs": [],
   "source": [
    "X3 = data4.iloc[:,[0,1,3,4,5,6,7]].values\n",
    "y3 = data4.iloc[:,2].values"
   ]
  },
  {
   "cell_type": "code",
   "execution_count": 929,
   "metadata": {},
   "outputs": [
    {
     "data": {
      "text/plain": [
       "((4687, 7), (1563, 7), (4687,), (1563,))"
      ]
     },
     "execution_count": 929,
     "metadata": {},
     "output_type": "execute_result"
    }
   ],
   "source": [
    "X_train, X_test, y_train, y_test = train_test_split(X3, y3, test_size = 0.25, random_state = 1)\n",
    "X_train.shape, X_test.shape, y_train.shape, y_test.shape"
   ]
  },
  {
   "cell_type": "code",
   "execution_count": 930,
   "metadata": {},
   "outputs": [
    {
     "name": "stdout",
     "output_type": "stream",
     "text": [
      "LINEAR REGRESSION : \n",
      "  TEST SET ERROR :  5.0422705303674\n",
      "  TRAINING SET ERROR :  4.722391531676693\n",
      "POLYNOMIAL REGRESSION WITH DEGREE 2 : \n",
      "  TEST SET ERROR :  5.100721611682038\n",
      "POLYNOMIAL REGRESSION WITH DEGREE 3 : \n",
      "  TEST SET ERROR :  4.737004041643878\n",
      "1   DECISION TREE REGRESSION  :  5.177018440869705\n",
      "  DECISION TREE TRAINING SET ERROR :  4.87020284770607\n",
      "Cross Validation Accuracy: 0.04 (+/- 0.03)\n",
      "2   DECISION TREE REGRESSION  :  5.043333599135412\n",
      "  DECISION TREE TRAINING SET ERROR :  4.743829777638773\n",
      "Cross Validation Accuracy: 0.07 (+/- 0.07)\n",
      "3   DECISION TREE REGRESSION  :  4.941484346291614\n",
      "  DECISION TREE TRAINING SET ERROR :  4.596883055937756\n",
      "Cross Validation Accuracy: 0.12 (+/- 0.08)\n",
      "4   DECISION TREE REGRESSION  :  4.763441247836423\n",
      "  DECISION TREE TRAINING SET ERROR :  4.446331344208888\n",
      "Cross Validation Accuracy: 0.17 (+/- 0.10)\n",
      "5   DECISION TREE REGRESSION  :  4.621126786586789\n",
      "  DECISION TREE TRAINING SET ERROR :  4.306812905368544\n",
      "Cross Validation Accuracy: 0.21 (+/- 0.11)\n",
      "6   DECISION TREE REGRESSION  :  4.641858548688493\n",
      "  DECISION TREE TRAINING SET ERROR :  4.179391825886612\n",
      "Cross Validation Accuracy: 0.22 (+/- 0.12)\n",
      "7   DECISION TREE REGRESSION  :  4.679148226152374\n",
      "  DECISION TREE TRAINING SET ERROR :  4.030826495936775\n",
      "Cross Validation Accuracy: 0.21 (+/- 0.12)\n",
      "8   DECISION TREE REGRESSION  :  4.653381394890591\n",
      "  DECISION TREE TRAINING SET ERROR :  3.920811675557389\n",
      "Cross Validation Accuracy: 0.21 (+/- 0.12)\n",
      "9   DECISION TREE REGRESSION  :  4.653268921529402\n",
      "  DECISION TREE TRAINING SET ERROR :  3.7782804634301215\n",
      "Cross Validation Accuracy: 0.18 (+/- 0.09)\n",
      "10   DECISION TREE REGRESSION  :  4.7532231091222625\n",
      "  DECISION TREE TRAINING SET ERROR :  3.616196775633999\n",
      "Cross Validation Accuracy: 0.15 (+/- 0.10)\n",
      "11   DECISION TREE REGRESSION  :  4.857075293323152\n",
      "  DECISION TREE TRAINING SET ERROR :  3.44177259833383\n",
      "Cross Validation Accuracy: 0.09 (+/- 0.15)\n",
      "12   DECISION TREE REGRESSION  :  5.088177248805059\n",
      "  DECISION TREE TRAINING SET ERROR :  3.2562950735553904\n",
      "Cross Validation Accuracy: 0.06 (+/- 0.16)\n",
      "13   DECISION TREE REGRESSION  :  5.181273014701096\n",
      "  DECISION TREE TRAINING SET ERROR :  3.079663058043228\n",
      "Cross Validation Accuracy: 0.03 (+/- 0.16)\n",
      "14   DECISION TREE REGRESSION  :  5.228624555846321\n",
      "  DECISION TREE TRAINING SET ERROR :  2.874158830249284\n",
      "Cross Validation Accuracy: -0.03 (+/- 0.20)\n"
     ]
    }
   ],
   "source": [
    "regression_rmse(X_train, X_test, y_train, y_test)"
   ]
  },
  {
   "cell_type": "markdown",
   "metadata": {},
   "source": [
    "CLEANING THE TESTING DATA"
   ]
  },
  {
   "cell_type": "code",
   "execution_count": 832,
   "metadata": {},
   "outputs": [
    {
     "data": {
      "text/plain": [
       "Index(['hubid', 'pickuppartnerid', 'deliverypartnerid', 'insuranceCompanyId',\n",
       "       'custpincode', 'servicecntrid', 'tat_in_days', 'cat_claim',\n",
       "       'cat_custpincodecategory', 'cat_mobmake', 'claimintdate_month',\n",
       "       'pickupstartdate_month'],\n",
       "      dtype='object')"
      ]
     },
     "execution_count": 832,
     "metadata": {},
     "output_type": "execute_result"
    }
   ],
   "source": [
    "data.columns"
   ]
  },
  {
   "cell_type": "code",
   "execution_count": 833,
   "metadata": {
    "collapsed": true
   },
   "outputs": [],
   "source": [
    "test_data = pd.read_csv('problem_2_test.csv')"
   ]
  },
  {
   "cell_type": "code",
   "execution_count": 834,
   "metadata": {},
   "outputs": [
    {
     "data": {
      "text/plain": [
       "Index(['srno', 'mobmake', 'hubid', 'hubpincode', 'pickuppartnerid',\n",
       "       'deliverypartnerid', 'insuranceCompanyId', 'custpincodecategory',\n",
       "       'claimtype', 'custpincode', 'memcreateddate', 'mobilepurchasedate',\n",
       "       'claimintdate', 'servicecntrid', 'pickupStartdate'],\n",
       "      dtype='object')"
      ]
     },
     "execution_count": 834,
     "metadata": {},
     "output_type": "execute_result"
    }
   ],
   "source": [
    "test_data.columns"
   ]
  },
  {
   "cell_type": "code",
   "execution_count": 835,
   "metadata": {},
   "outputs": [
    {
     "data": {
      "text/html": [
       "<div>\n",
       "<style>\n",
       "    .dataframe thead tr:only-child th {\n",
       "        text-align: right;\n",
       "    }\n",
       "\n",
       "    .dataframe thead th {\n",
       "        text-align: left;\n",
       "    }\n",
       "\n",
       "    .dataframe tbody tr th {\n",
       "        vertical-align: top;\n",
       "    }\n",
       "</style>\n",
       "<table border=\"1\" class=\"dataframe\">\n",
       "  <thead>\n",
       "    <tr style=\"text-align: right;\">\n",
       "      <th></th>\n",
       "      <th>srno</th>\n",
       "      <th>mobmake</th>\n",
       "      <th>hubid</th>\n",
       "      <th>hubpincode</th>\n",
       "      <th>pickuppartnerid</th>\n",
       "      <th>deliverypartnerid</th>\n",
       "      <th>insuranceCompanyId</th>\n",
       "      <th>custpincodecategory</th>\n",
       "      <th>claimtype</th>\n",
       "      <th>custpincode</th>\n",
       "      <th>memcreateddate</th>\n",
       "      <th>mobilepurchasedate</th>\n",
       "      <th>claimintdate</th>\n",
       "      <th>servicecntrid</th>\n",
       "      <th>pickupStartdate</th>\n",
       "    </tr>\n",
       "  </thead>\n",
       "  <tbody>\n",
       "    <tr>\n",
       "      <th>0</th>\n",
       "      <td>2829088</td>\n",
       "      <td>AN</td>\n",
       "      <td>3</td>\n",
       "      <td>560011</td>\n",
       "      <td>233</td>\n",
       "      <td>233</td>\n",
       "      <td>131</td>\n",
       "      <td>A</td>\n",
       "      <td>ADLD</td>\n",
       "      <td>560093</td>\n",
       "      <td>2017-07-30</td>\n",
       "      <td>2017-07-27</td>\n",
       "      <td>2018-02-01</td>\n",
       "      <td>4467</td>\n",
       "      <td>2018-02-06</td>\n",
       "    </tr>\n",
       "    <tr>\n",
       "      <th>1</th>\n",
       "      <td>2829866</td>\n",
       "      <td>AJ</td>\n",
       "      <td>2</td>\n",
       "      <td>110018</td>\n",
       "      <td>233</td>\n",
       "      <td>233</td>\n",
       "      <td>228</td>\n",
       "      <td>A</td>\n",
       "      <td>ADLD</td>\n",
       "      <td>110034</td>\n",
       "      <td>2017-07-17</td>\n",
       "      <td>2017-01-25</td>\n",
       "      <td>2018-02-01</td>\n",
       "      <td>4388</td>\n",
       "      <td>2018-02-08</td>\n",
       "    </tr>\n",
       "    <tr>\n",
       "      <th>2</th>\n",
       "      <td>2894489</td>\n",
       "      <td>AJ</td>\n",
       "      <td>3</td>\n",
       "      <td>560011</td>\n",
       "      <td>233</td>\n",
       "      <td>233</td>\n",
       "      <td>228</td>\n",
       "      <td>C</td>\n",
       "      <td>ADLD</td>\n",
       "      <td>590014</td>\n",
       "      <td>2018-01-12</td>\n",
       "      <td>2018-01-11</td>\n",
       "      <td>2018-02-21</td>\n",
       "      <td>4460</td>\n",
       "      <td>2018-02-28</td>\n",
       "    </tr>\n",
       "    <tr>\n",
       "      <th>3</th>\n",
       "      <td>2876708</td>\n",
       "      <td>AJ</td>\n",
       "      <td>2</td>\n",
       "      <td>110018</td>\n",
       "      <td>233</td>\n",
       "      <td>233</td>\n",
       "      <td>228</td>\n",
       "      <td>B</td>\n",
       "      <td>ADLD</td>\n",
       "      <td>250110</td>\n",
       "      <td>2017-08-07</td>\n",
       "      <td>2017-05-21</td>\n",
       "      <td>2018-02-16</td>\n",
       "      <td>4388</td>\n",
       "      <td>2018-02-26</td>\n",
       "    </tr>\n",
       "    <tr>\n",
       "      <th>4</th>\n",
       "      <td>2890283</td>\n",
       "      <td>AN</td>\n",
       "      <td>22</td>\n",
       "      <td>400104</td>\n",
       "      <td>233</td>\n",
       "      <td>233</td>\n",
       "      <td>131</td>\n",
       "      <td>C</td>\n",
       "      <td>ADLD</td>\n",
       "      <td>496001</td>\n",
       "      <td>2017-11-10</td>\n",
       "      <td>2017-09-22</td>\n",
       "      <td>2018-02-20</td>\n",
       "      <td>4581</td>\n",
       "      <td>2018-02-23</td>\n",
       "    </tr>\n",
       "  </tbody>\n",
       "</table>\n",
       "</div>"
      ],
      "text/plain": [
       "      srno mobmake  hubid  hubpincode  pickuppartnerid  deliverypartnerid  \\\n",
       "0  2829088      AN      3      560011              233                233   \n",
       "1  2829866      AJ      2      110018              233                233   \n",
       "2  2894489      AJ      3      560011              233                233   \n",
       "3  2876708      AJ      2      110018              233                233   \n",
       "4  2890283      AN     22      400104              233                233   \n",
       "\n",
       "   insuranceCompanyId custpincodecategory claimtype  custpincode  \\\n",
       "0                 131                   A      ADLD       560093   \n",
       "1                 228                   A      ADLD       110034   \n",
       "2                 228                   C      ADLD       590014   \n",
       "3                 228                   B      ADLD       250110   \n",
       "4                 131                   C      ADLD       496001   \n",
       "\n",
       "  memcreateddate mobilepurchasedate claimintdate  servicecntrid  \\\n",
       "0     2017-07-30         2017-07-27   2018-02-01           4467   \n",
       "1     2017-07-17         2017-01-25   2018-02-01           4388   \n",
       "2     2018-01-12         2018-01-11   2018-02-21           4460   \n",
       "3     2017-08-07         2017-05-21   2018-02-16           4388   \n",
       "4     2017-11-10         2017-09-22   2018-02-20           4581   \n",
       "\n",
       "  pickupStartdate  \n",
       "0      2018-02-06  \n",
       "1      2018-02-08  \n",
       "2      2018-02-28  \n",
       "3      2018-02-26  \n",
       "4      2018-02-23  "
      ]
     },
     "execution_count": 835,
     "metadata": {},
     "output_type": "execute_result"
    }
   ],
   "source": [
    "test_data.head()"
   ]
  },
  {
   "cell_type": "code",
   "execution_count": 836,
   "metadata": {},
   "outputs": [],
   "source": [
    "test_data['cat_claim'] = [get_claimtype(test_data['claimtype'][i]) for i in range(len(test_data['claimtype']))]"
   ]
  },
  {
   "cell_type": "code",
   "execution_count": 837,
   "metadata": {
    "collapsed": true
   },
   "outputs": [],
   "source": [
    "test_data.drop(['srno', 'claimtype'], inplace = True, axis = 1)"
   ]
  },
  {
   "cell_type": "code",
   "execution_count": 838,
   "metadata": {
    "collapsed": true
   },
   "outputs": [],
   "source": [
    "test_data['cat_custpincodecategory'] = [cat_custpincodecategory(test_data['custpincodecategory'][i]) for i in range(len(test_data['custpincodecategory']))]\n",
    "test_data.drop(['custpincodecategory'], inplace=True, axis = 1)"
   ]
  },
  {
   "cell_type": "code",
   "execution_count": 839,
   "metadata": {},
   "outputs": [
    {
     "data": {
      "text/html": [
       "<div>\n",
       "<style>\n",
       "    .dataframe thead tr:only-child th {\n",
       "        text-align: right;\n",
       "    }\n",
       "\n",
       "    .dataframe thead th {\n",
       "        text-align: left;\n",
       "    }\n",
       "\n",
       "    .dataframe tbody tr th {\n",
       "        vertical-align: top;\n",
       "    }\n",
       "</style>\n",
       "<table border=\"1\" class=\"dataframe\">\n",
       "  <thead>\n",
       "    <tr style=\"text-align: right;\">\n",
       "      <th></th>\n",
       "      <th>mobmake</th>\n",
       "      <th>hubid</th>\n",
       "      <th>hubpincode</th>\n",
       "      <th>pickuppartnerid</th>\n",
       "      <th>deliverypartnerid</th>\n",
       "      <th>insuranceCompanyId</th>\n",
       "      <th>custpincode</th>\n",
       "      <th>memcreateddate</th>\n",
       "      <th>mobilepurchasedate</th>\n",
       "      <th>claimintdate</th>\n",
       "      <th>servicecntrid</th>\n",
       "      <th>pickupStartdate</th>\n",
       "      <th>cat_claim</th>\n",
       "      <th>cat_custpincodecategory</th>\n",
       "    </tr>\n",
       "  </thead>\n",
       "  <tbody>\n",
       "    <tr>\n",
       "      <th>0</th>\n",
       "      <td>AN</td>\n",
       "      <td>3</td>\n",
       "      <td>560011</td>\n",
       "      <td>233</td>\n",
       "      <td>233</td>\n",
       "      <td>131</td>\n",
       "      <td>560093</td>\n",
       "      <td>2017-07-30</td>\n",
       "      <td>2017-07-27</td>\n",
       "      <td>2018-02-01</td>\n",
       "      <td>4467</td>\n",
       "      <td>2018-02-06</td>\n",
       "      <td>1</td>\n",
       "      <td>1</td>\n",
       "    </tr>\n",
       "    <tr>\n",
       "      <th>1</th>\n",
       "      <td>AJ</td>\n",
       "      <td>2</td>\n",
       "      <td>110018</td>\n",
       "      <td>233</td>\n",
       "      <td>233</td>\n",
       "      <td>228</td>\n",
       "      <td>110034</td>\n",
       "      <td>2017-07-17</td>\n",
       "      <td>2017-01-25</td>\n",
       "      <td>2018-02-01</td>\n",
       "      <td>4388</td>\n",
       "      <td>2018-02-08</td>\n",
       "      <td>1</td>\n",
       "      <td>1</td>\n",
       "    </tr>\n",
       "    <tr>\n",
       "      <th>2</th>\n",
       "      <td>AJ</td>\n",
       "      <td>3</td>\n",
       "      <td>560011</td>\n",
       "      <td>233</td>\n",
       "      <td>233</td>\n",
       "      <td>228</td>\n",
       "      <td>590014</td>\n",
       "      <td>2018-01-12</td>\n",
       "      <td>2018-01-11</td>\n",
       "      <td>2018-02-21</td>\n",
       "      <td>4460</td>\n",
       "      <td>2018-02-28</td>\n",
       "      <td>1</td>\n",
       "      <td>3</td>\n",
       "    </tr>\n",
       "    <tr>\n",
       "      <th>3</th>\n",
       "      <td>AJ</td>\n",
       "      <td>2</td>\n",
       "      <td>110018</td>\n",
       "      <td>233</td>\n",
       "      <td>233</td>\n",
       "      <td>228</td>\n",
       "      <td>250110</td>\n",
       "      <td>2017-08-07</td>\n",
       "      <td>2017-05-21</td>\n",
       "      <td>2018-02-16</td>\n",
       "      <td>4388</td>\n",
       "      <td>2018-02-26</td>\n",
       "      <td>1</td>\n",
       "      <td>2</td>\n",
       "    </tr>\n",
       "    <tr>\n",
       "      <th>4</th>\n",
       "      <td>AN</td>\n",
       "      <td>22</td>\n",
       "      <td>400104</td>\n",
       "      <td>233</td>\n",
       "      <td>233</td>\n",
       "      <td>131</td>\n",
       "      <td>496001</td>\n",
       "      <td>2017-11-10</td>\n",
       "      <td>2017-09-22</td>\n",
       "      <td>2018-02-20</td>\n",
       "      <td>4581</td>\n",
       "      <td>2018-02-23</td>\n",
       "      <td>1</td>\n",
       "      <td>3</td>\n",
       "    </tr>\n",
       "  </tbody>\n",
       "</table>\n",
       "</div>"
      ],
      "text/plain": [
       "  mobmake  hubid  hubpincode  pickuppartnerid  deliverypartnerid  \\\n",
       "0      AN      3      560011              233                233   \n",
       "1      AJ      2      110018              233                233   \n",
       "2      AJ      3      560011              233                233   \n",
       "3      AJ      2      110018              233                233   \n",
       "4      AN     22      400104              233                233   \n",
       "\n",
       "   insuranceCompanyId  custpincode memcreateddate mobilepurchasedate  \\\n",
       "0                 131       560093     2017-07-30         2017-07-27   \n",
       "1                 228       110034     2017-07-17         2017-01-25   \n",
       "2                 228       590014     2018-01-12         2018-01-11   \n",
       "3                 228       250110     2017-08-07         2017-05-21   \n",
       "4                 131       496001     2017-11-10         2017-09-22   \n",
       "\n",
       "  claimintdate  servicecntrid pickupStartdate  cat_claim  \\\n",
       "0   2018-02-01           4467      2018-02-06          1   \n",
       "1   2018-02-01           4388      2018-02-08          1   \n",
       "2   2018-02-21           4460      2018-02-28          1   \n",
       "3   2018-02-16           4388      2018-02-26          1   \n",
       "4   2018-02-20           4581      2018-02-23          1   \n",
       "\n",
       "   cat_custpincodecategory  \n",
       "0                        1  \n",
       "1                        1  \n",
       "2                        3  \n",
       "3                        2  \n",
       "4                        3  "
      ]
     },
     "execution_count": 839,
     "metadata": {},
     "output_type": "execute_result"
    }
   ],
   "source": [
    "test_data.head()"
   ]
  },
  {
   "cell_type": "code",
   "execution_count": 840,
   "metadata": {},
   "outputs": [
    {
     "data": {
      "text/html": [
       "<div>\n",
       "<style>\n",
       "    .dataframe thead tr:only-child th {\n",
       "        text-align: right;\n",
       "    }\n",
       "\n",
       "    .dataframe thead th {\n",
       "        text-align: left;\n",
       "    }\n",
       "\n",
       "    .dataframe tbody tr th {\n",
       "        vertical-align: top;\n",
       "    }\n",
       "</style>\n",
       "<table border=\"1\" class=\"dataframe\">\n",
       "  <thead>\n",
       "    <tr style=\"text-align: right;\">\n",
       "      <th></th>\n",
       "      <th>mobmake</th>\n",
       "      <th>hubid</th>\n",
       "      <th>hubpincode</th>\n",
       "      <th>pickuppartnerid</th>\n",
       "      <th>deliverypartnerid</th>\n",
       "      <th>insuranceCompanyId</th>\n",
       "      <th>custpincode</th>\n",
       "      <th>memcreateddate</th>\n",
       "      <th>mobilepurchasedate</th>\n",
       "      <th>claimintdate</th>\n",
       "      <th>servicecntrid</th>\n",
       "      <th>pickupStartdate</th>\n",
       "      <th>cat_claim</th>\n",
       "      <th>cat_custpincodecategory</th>\n",
       "    </tr>\n",
       "  </thead>\n",
       "  <tbody>\n",
       "    <tr>\n",
       "      <th>726</th>\n",
       "      <td>AH</td>\n",
       "      <td>1</td>\n",
       "      <td>400059</td>\n",
       "      <td>233</td>\n",
       "      <td>233</td>\n",
       "      <td>131</td>\n",
       "      <td>422001</td>\n",
       "      <td>2017-02-19</td>\n",
       "      <td>2017-02-17</td>\n",
       "      <td>2018-02-05</td>\n",
       "      <td>4016</td>\n",
       "      <td>2018-02-08</td>\n",
       "      <td>1</td>\n",
       "      <td>2</td>\n",
       "    </tr>\n",
       "    <tr>\n",
       "      <th>1170</th>\n",
       "      <td>AH</td>\n",
       "      <td>2</td>\n",
       "      <td>110018</td>\n",
       "      <td>233</td>\n",
       "      <td>233</td>\n",
       "      <td>228</td>\n",
       "      <td>125005</td>\n",
       "      <td>2017-12-25</td>\n",
       "      <td>2017-10-01</td>\n",
       "      <td>2018-02-01</td>\n",
       "      <td>4145</td>\n",
       "      <td>2018-02-25</td>\n",
       "      <td>1</td>\n",
       "      <td>2</td>\n",
       "    </tr>\n",
       "  </tbody>\n",
       "</table>\n",
       "</div>"
      ],
      "text/plain": [
       "     mobmake  hubid  hubpincode  pickuppartnerid  deliverypartnerid  \\\n",
       "726       AH      1      400059              233                233   \n",
       "1170      AH      2      110018              233                233   \n",
       "\n",
       "      insuranceCompanyId  custpincode memcreateddate mobilepurchasedate  \\\n",
       "726                  131       422001     2017-02-19         2017-02-17   \n",
       "1170                 228       125005     2017-12-25         2017-10-01   \n",
       "\n",
       "     claimintdate  servicecntrid pickupStartdate  cat_claim  \\\n",
       "726    2018-02-05           4016      2018-02-08          1   \n",
       "1170   2018-02-01           4145      2018-02-25          1   \n",
       "\n",
       "      cat_custpincodecategory  \n",
       "726                         2  \n",
       "1170                        2  "
      ]
     },
     "execution_count": 840,
     "metadata": {},
     "output_type": "execute_result"
    }
   ],
   "source": [
    "test_data[test_data['mobmake'] == 'AH']"
   ]
  },
  {
   "cell_type": "code",
   "execution_count": 841,
   "metadata": {},
   "outputs": [
    {
     "data": {
      "text/html": [
       "<div>\n",
       "<style>\n",
       "    .dataframe thead tr:only-child th {\n",
       "        text-align: right;\n",
       "    }\n",
       "\n",
       "    .dataframe thead th {\n",
       "        text-align: left;\n",
       "    }\n",
       "\n",
       "    .dataframe tbody tr th {\n",
       "        vertical-align: top;\n",
       "    }\n",
       "</style>\n",
       "<table border=\"1\" class=\"dataframe\">\n",
       "  <thead>\n",
       "    <tr style=\"text-align: right;\">\n",
       "      <th></th>\n",
       "      <th>mobmake</th>\n",
       "      <th>hubid</th>\n",
       "      <th>hubpincode</th>\n",
       "      <th>pickuppartnerid</th>\n",
       "      <th>deliverypartnerid</th>\n",
       "      <th>insuranceCompanyId</th>\n",
       "      <th>custpincode</th>\n",
       "      <th>memcreateddate</th>\n",
       "      <th>mobilepurchasedate</th>\n",
       "      <th>claimintdate</th>\n",
       "      <th>servicecntrid</th>\n",
       "      <th>pickupStartdate</th>\n",
       "      <th>cat_claim</th>\n",
       "      <th>cat_custpincodecategory</th>\n",
       "    </tr>\n",
       "  </thead>\n",
       "  <tbody>\n",
       "    <tr>\n",
       "      <th>1081</th>\n",
       "      <td>Q</td>\n",
       "      <td>6</td>\n",
       "      <td>160059</td>\n",
       "      <td>233</td>\n",
       "      <td>233</td>\n",
       "      <td>131</td>\n",
       "      <td>134102</td>\n",
       "      <td>2018-01-03</td>\n",
       "      <td>2018-01-03</td>\n",
       "      <td>2018-02-25</td>\n",
       "      <td>4439</td>\n",
       "      <td>2018-03-27</td>\n",
       "      <td>1</td>\n",
       "      <td>2</td>\n",
       "    </tr>\n",
       "  </tbody>\n",
       "</table>\n",
       "</div>"
      ],
      "text/plain": [
       "     mobmake  hubid  hubpincode  pickuppartnerid  deliverypartnerid  \\\n",
       "1081       Q      6      160059              233                233   \n",
       "\n",
       "      insuranceCompanyId  custpincode memcreateddate mobilepurchasedate  \\\n",
       "1081                 131       134102     2018-01-03         2018-01-03   \n",
       "\n",
       "     claimintdate  servicecntrid pickupStartdate  cat_claim  \\\n",
       "1081   2018-02-25           4439      2018-03-27          1   \n",
       "\n",
       "      cat_custpincodecategory  \n",
       "1081                        2  "
      ]
     },
     "execution_count": 841,
     "metadata": {},
     "output_type": "execute_result"
    }
   ],
   "source": [
    "test_data[test_data['mobmake'] == 'Q']"
   ]
  },
  {
   "cell_type": "code",
   "execution_count": 842,
   "metadata": {},
   "outputs": [
    {
     "data": {
      "text/html": [
       "<div>\n",
       "<style>\n",
       "    .dataframe thead tr:only-child th {\n",
       "        text-align: right;\n",
       "    }\n",
       "\n",
       "    .dataframe thead th {\n",
       "        text-align: left;\n",
       "    }\n",
       "\n",
       "    .dataframe tbody tr th {\n",
       "        vertical-align: top;\n",
       "    }\n",
       "</style>\n",
       "<table border=\"1\" class=\"dataframe\">\n",
       "  <thead>\n",
       "    <tr style=\"text-align: right;\">\n",
       "      <th></th>\n",
       "      <th>mobmake</th>\n",
       "      <th>hubid</th>\n",
       "      <th>hubpincode</th>\n",
       "      <th>pickuppartnerid</th>\n",
       "      <th>deliverypartnerid</th>\n",
       "      <th>insuranceCompanyId</th>\n",
       "      <th>custpincode</th>\n",
       "      <th>memcreateddate</th>\n",
       "      <th>mobilepurchasedate</th>\n",
       "      <th>claimintdate</th>\n",
       "      <th>servicecntrid</th>\n",
       "      <th>pickupStartdate</th>\n",
       "      <th>cat_claim</th>\n",
       "      <th>cat_custpincodecategory</th>\n",
       "    </tr>\n",
       "  </thead>\n",
       "  <tbody>\n",
       "    <tr>\n",
       "      <th>1497</th>\n",
       "      <td>AC</td>\n",
       "      <td>1</td>\n",
       "      <td>400059</td>\n",
       "      <td>233</td>\n",
       "      <td>233</td>\n",
       "      <td>131</td>\n",
       "      <td>400101</td>\n",
       "      <td>2017-02-16</td>\n",
       "      <td>2017-02-12</td>\n",
       "      <td>2018-02-05</td>\n",
       "      <td>4011</td>\n",
       "      <td>2018-02-15</td>\n",
       "      <td>1</td>\n",
       "      <td>1</td>\n",
       "    </tr>\n",
       "  </tbody>\n",
       "</table>\n",
       "</div>"
      ],
      "text/plain": [
       "     mobmake  hubid  hubpincode  pickuppartnerid  deliverypartnerid  \\\n",
       "1497      AC      1      400059              233                233   \n",
       "\n",
       "      insuranceCompanyId  custpincode memcreateddate mobilepurchasedate  \\\n",
       "1497                 131       400101     2017-02-16         2017-02-12   \n",
       "\n",
       "     claimintdate  servicecntrid pickupStartdate  cat_claim  \\\n",
       "1497   2018-02-05           4011      2018-02-15          1   \n",
       "\n",
       "      cat_custpincodecategory  \n",
       "1497                        1  "
      ]
     },
     "execution_count": 842,
     "metadata": {},
     "output_type": "execute_result"
    }
   ],
   "source": [
    "test_data[test_data['mobmake'] == 'AC']"
   ]
  },
  {
   "cell_type": "code",
   "execution_count": 843,
   "metadata": {},
   "outputs": [],
   "source": [
    "test_data.loc[[726,1170,1081,1497], 'mobmake'] = 'AN'"
   ]
  },
  {
   "cell_type": "code",
   "execution_count": 844,
   "metadata": {},
   "outputs": [
    {
     "data": {
      "text/html": [
       "<div>\n",
       "<style>\n",
       "    .dataframe thead tr:only-child th {\n",
       "        text-align: right;\n",
       "    }\n",
       "\n",
       "    .dataframe thead th {\n",
       "        text-align: left;\n",
       "    }\n",
       "\n",
       "    .dataframe tbody tr th {\n",
       "        vertical-align: top;\n",
       "    }\n",
       "</style>\n",
       "<table border=\"1\" class=\"dataframe\">\n",
       "  <thead>\n",
       "    <tr style=\"text-align: right;\">\n",
       "      <th></th>\n",
       "      <th>hubid</th>\n",
       "      <th>hubpincode</th>\n",
       "      <th>pickuppartnerid</th>\n",
       "      <th>deliverypartnerid</th>\n",
       "      <th>insuranceCompanyId</th>\n",
       "      <th>custpincode</th>\n",
       "      <th>memcreateddate</th>\n",
       "      <th>mobilepurchasedate</th>\n",
       "      <th>claimintdate</th>\n",
       "      <th>servicecntrid</th>\n",
       "      <th>pickupStartdate</th>\n",
       "      <th>cat_claim</th>\n",
       "      <th>cat_custpincodecategory</th>\n",
       "      <th>cat_mobmake</th>\n",
       "    </tr>\n",
       "  </thead>\n",
       "  <tbody>\n",
       "    <tr>\n",
       "      <th>0</th>\n",
       "      <td>3</td>\n",
       "      <td>560011</td>\n",
       "      <td>233</td>\n",
       "      <td>233</td>\n",
       "      <td>131</td>\n",
       "      <td>560093</td>\n",
       "      <td>2017-07-30</td>\n",
       "      <td>2017-07-27</td>\n",
       "      <td>2018-02-01</td>\n",
       "      <td>4467</td>\n",
       "      <td>2018-02-06</td>\n",
       "      <td>1</td>\n",
       "      <td>1</td>\n",
       "      <td>19</td>\n",
       "    </tr>\n",
       "    <tr>\n",
       "      <th>1</th>\n",
       "      <td>2</td>\n",
       "      <td>110018</td>\n",
       "      <td>233</td>\n",
       "      <td>233</td>\n",
       "      <td>228</td>\n",
       "      <td>110034</td>\n",
       "      <td>2017-07-17</td>\n",
       "      <td>2017-01-25</td>\n",
       "      <td>2018-02-01</td>\n",
       "      <td>4388</td>\n",
       "      <td>2018-02-08</td>\n",
       "      <td>1</td>\n",
       "      <td>1</td>\n",
       "      <td>11</td>\n",
       "    </tr>\n",
       "    <tr>\n",
       "      <th>2</th>\n",
       "      <td>3</td>\n",
       "      <td>560011</td>\n",
       "      <td>233</td>\n",
       "      <td>233</td>\n",
       "      <td>228</td>\n",
       "      <td>590014</td>\n",
       "      <td>2018-01-12</td>\n",
       "      <td>2018-01-11</td>\n",
       "      <td>2018-02-21</td>\n",
       "      <td>4460</td>\n",
       "      <td>2018-02-28</td>\n",
       "      <td>1</td>\n",
       "      <td>3</td>\n",
       "      <td>11</td>\n",
       "    </tr>\n",
       "    <tr>\n",
       "      <th>3</th>\n",
       "      <td>2</td>\n",
       "      <td>110018</td>\n",
       "      <td>233</td>\n",
       "      <td>233</td>\n",
       "      <td>228</td>\n",
       "      <td>250110</td>\n",
       "      <td>2017-08-07</td>\n",
       "      <td>2017-05-21</td>\n",
       "      <td>2018-02-16</td>\n",
       "      <td>4388</td>\n",
       "      <td>2018-02-26</td>\n",
       "      <td>1</td>\n",
       "      <td>2</td>\n",
       "      <td>11</td>\n",
       "    </tr>\n",
       "    <tr>\n",
       "      <th>4</th>\n",
       "      <td>22</td>\n",
       "      <td>400104</td>\n",
       "      <td>233</td>\n",
       "      <td>233</td>\n",
       "      <td>131</td>\n",
       "      <td>496001</td>\n",
       "      <td>2017-11-10</td>\n",
       "      <td>2017-09-22</td>\n",
       "      <td>2018-02-20</td>\n",
       "      <td>4581</td>\n",
       "      <td>2018-02-23</td>\n",
       "      <td>1</td>\n",
       "      <td>3</td>\n",
       "      <td>19</td>\n",
       "    </tr>\n",
       "  </tbody>\n",
       "</table>\n",
       "</div>"
      ],
      "text/plain": [
       "   hubid  hubpincode  pickuppartnerid  deliverypartnerid  insuranceCompanyId  \\\n",
       "0      3      560011              233                233                 131   \n",
       "1      2      110018              233                233                 228   \n",
       "2      3      560011              233                233                 228   \n",
       "3      2      110018              233                233                 228   \n",
       "4     22      400104              233                233                 131   \n",
       "\n",
       "   custpincode memcreateddate mobilepurchasedate claimintdate  servicecntrid  \\\n",
       "0       560093     2017-07-30         2017-07-27   2018-02-01           4467   \n",
       "1       110034     2017-07-17         2017-01-25   2018-02-01           4388   \n",
       "2       590014     2018-01-12         2018-01-11   2018-02-21           4460   \n",
       "3       250110     2017-08-07         2017-05-21   2018-02-16           4388   \n",
       "4       496001     2017-11-10         2017-09-22   2018-02-20           4581   \n",
       "\n",
       "  pickupStartdate  cat_claim  cat_custpincodecategory  cat_mobmake  \n",
       "0      2018-02-06          1                        1           19  \n",
       "1      2018-02-08          1                        1           11  \n",
       "2      2018-02-28          1                        3           11  \n",
       "3      2018-02-26          1                        2           11  \n",
       "4      2018-02-23          1                        3           19  "
      ]
     },
     "execution_count": 844,
     "metadata": {},
     "output_type": "execute_result"
    }
   ],
   "source": [
    "test_data['cat_mobmake'] = [d[test_data['mobmake'][i]] for i in range(len(test_data['mobmake']))]\n",
    "test_data.drop(['mobmake'], inplace = True, axis= 1)\n",
    "test_data.head()"
   ]
  },
  {
   "cell_type": "code",
   "execution_count": 845,
   "metadata": {},
   "outputs": [
    {
     "data": {
      "text/plain": [
       "Index(['hubid', 'hubpincode', 'pickuppartnerid', 'deliverypartnerid',\n",
       "       'insuranceCompanyId', 'custpincode', 'memcreateddate',\n",
       "       'mobilepurchasedate', 'claimintdate', 'servicecntrid',\n",
       "       'pickupStartdate', 'cat_claim', 'cat_custpincodecategory',\n",
       "       'cat_mobmake'],\n",
       "      dtype='object')"
      ]
     },
     "execution_count": 845,
     "metadata": {},
     "output_type": "execute_result"
    }
   ],
   "source": [
    "test_data.columns"
   ]
  },
  {
   "cell_type": "code",
   "execution_count": 846,
   "metadata": {},
   "outputs": [],
   "source": [
    "test_data['claimintdate_month'] = [int(test_data['claimintdate'][i].split('-')[1]) for i in range(len(test_data['claimintdate']))]\n",
    "test_data['pickupstartdate_month'] = [int(test_data['pickupStartdate'][i].split('-')[1]) for i in range(len(test_data['pickupStartdate']))]"
   ]
  },
  {
   "cell_type": "code",
   "execution_count": 847,
   "metadata": {},
   "outputs": [
    {
     "data": {
      "text/html": [
       "<div>\n",
       "<style>\n",
       "    .dataframe thead tr:only-child th {\n",
       "        text-align: right;\n",
       "    }\n",
       "\n",
       "    .dataframe thead th {\n",
       "        text-align: left;\n",
       "    }\n",
       "\n",
       "    .dataframe tbody tr th {\n",
       "        vertical-align: top;\n",
       "    }\n",
       "</style>\n",
       "<table border=\"1\" class=\"dataframe\">\n",
       "  <thead>\n",
       "    <tr style=\"text-align: right;\">\n",
       "      <th></th>\n",
       "      <th>hubid</th>\n",
       "      <th>hubpincode</th>\n",
       "      <th>pickuppartnerid</th>\n",
       "      <th>deliverypartnerid</th>\n",
       "      <th>insuranceCompanyId</th>\n",
       "      <th>custpincode</th>\n",
       "      <th>memcreateddate</th>\n",
       "      <th>mobilepurchasedate</th>\n",
       "      <th>claimintdate</th>\n",
       "      <th>servicecntrid</th>\n",
       "      <th>pickupStartdate</th>\n",
       "      <th>cat_claim</th>\n",
       "      <th>cat_custpincodecategory</th>\n",
       "      <th>cat_mobmake</th>\n",
       "      <th>claimintdate_month</th>\n",
       "      <th>pickupstartdate_month</th>\n",
       "    </tr>\n",
       "  </thead>\n",
       "  <tbody>\n",
       "    <tr>\n",
       "      <th>0</th>\n",
       "      <td>3</td>\n",
       "      <td>560011</td>\n",
       "      <td>233</td>\n",
       "      <td>233</td>\n",
       "      <td>131</td>\n",
       "      <td>560093</td>\n",
       "      <td>2017-07-30</td>\n",
       "      <td>2017-07-27</td>\n",
       "      <td>2018-02-01</td>\n",
       "      <td>4467</td>\n",
       "      <td>2018-02-06</td>\n",
       "      <td>1</td>\n",
       "      <td>1</td>\n",
       "      <td>19</td>\n",
       "      <td>2</td>\n",
       "      <td>2</td>\n",
       "    </tr>\n",
       "    <tr>\n",
       "      <th>1</th>\n",
       "      <td>2</td>\n",
       "      <td>110018</td>\n",
       "      <td>233</td>\n",
       "      <td>233</td>\n",
       "      <td>228</td>\n",
       "      <td>110034</td>\n",
       "      <td>2017-07-17</td>\n",
       "      <td>2017-01-25</td>\n",
       "      <td>2018-02-01</td>\n",
       "      <td>4388</td>\n",
       "      <td>2018-02-08</td>\n",
       "      <td>1</td>\n",
       "      <td>1</td>\n",
       "      <td>11</td>\n",
       "      <td>2</td>\n",
       "      <td>2</td>\n",
       "    </tr>\n",
       "    <tr>\n",
       "      <th>2</th>\n",
       "      <td>3</td>\n",
       "      <td>560011</td>\n",
       "      <td>233</td>\n",
       "      <td>233</td>\n",
       "      <td>228</td>\n",
       "      <td>590014</td>\n",
       "      <td>2018-01-12</td>\n",
       "      <td>2018-01-11</td>\n",
       "      <td>2018-02-21</td>\n",
       "      <td>4460</td>\n",
       "      <td>2018-02-28</td>\n",
       "      <td>1</td>\n",
       "      <td>3</td>\n",
       "      <td>11</td>\n",
       "      <td>2</td>\n",
       "      <td>2</td>\n",
       "    </tr>\n",
       "    <tr>\n",
       "      <th>3</th>\n",
       "      <td>2</td>\n",
       "      <td>110018</td>\n",
       "      <td>233</td>\n",
       "      <td>233</td>\n",
       "      <td>228</td>\n",
       "      <td>250110</td>\n",
       "      <td>2017-08-07</td>\n",
       "      <td>2017-05-21</td>\n",
       "      <td>2018-02-16</td>\n",
       "      <td>4388</td>\n",
       "      <td>2018-02-26</td>\n",
       "      <td>1</td>\n",
       "      <td>2</td>\n",
       "      <td>11</td>\n",
       "      <td>2</td>\n",
       "      <td>2</td>\n",
       "    </tr>\n",
       "    <tr>\n",
       "      <th>4</th>\n",
       "      <td>22</td>\n",
       "      <td>400104</td>\n",
       "      <td>233</td>\n",
       "      <td>233</td>\n",
       "      <td>131</td>\n",
       "      <td>496001</td>\n",
       "      <td>2017-11-10</td>\n",
       "      <td>2017-09-22</td>\n",
       "      <td>2018-02-20</td>\n",
       "      <td>4581</td>\n",
       "      <td>2018-02-23</td>\n",
       "      <td>1</td>\n",
       "      <td>3</td>\n",
       "      <td>19</td>\n",
       "      <td>2</td>\n",
       "      <td>2</td>\n",
       "    </tr>\n",
       "  </tbody>\n",
       "</table>\n",
       "</div>"
      ],
      "text/plain": [
       "   hubid  hubpincode  pickuppartnerid  deliverypartnerid  insuranceCompanyId  \\\n",
       "0      3      560011              233                233                 131   \n",
       "1      2      110018              233                233                 228   \n",
       "2      3      560011              233                233                 228   \n",
       "3      2      110018              233                233                 228   \n",
       "4     22      400104              233                233                 131   \n",
       "\n",
       "   custpincode memcreateddate mobilepurchasedate claimintdate  servicecntrid  \\\n",
       "0       560093     2017-07-30         2017-07-27   2018-02-01           4467   \n",
       "1       110034     2017-07-17         2017-01-25   2018-02-01           4388   \n",
       "2       590014     2018-01-12         2018-01-11   2018-02-21           4460   \n",
       "3       250110     2017-08-07         2017-05-21   2018-02-16           4388   \n",
       "4       496001     2017-11-10         2017-09-22   2018-02-20           4581   \n",
       "\n",
       "  pickupStartdate  cat_claim  cat_custpincodecategory  cat_mobmake  \\\n",
       "0      2018-02-06          1                        1           19   \n",
       "1      2018-02-08          1                        1           11   \n",
       "2      2018-02-28          1                        3           11   \n",
       "3      2018-02-26          1                        2           11   \n",
       "4      2018-02-23          1                        3           19   \n",
       "\n",
       "   claimintdate_month  pickupstartdate_month  \n",
       "0                   2                      2  \n",
       "1                   2                      2  \n",
       "2                   2                      2  \n",
       "3                   2                      2  \n",
       "4                   2                      2  "
      ]
     },
     "execution_count": 847,
     "metadata": {},
     "output_type": "execute_result"
    }
   ],
   "source": [
    "test_data.head()"
   ]
  },
  {
   "cell_type": "code",
   "execution_count": 848,
   "metadata": {
    "collapsed": true
   },
   "outputs": [],
   "source": [
    "test_data.drop(['mobilepurchasedate', 'memcreateddate','claimintdate','pickupStartdate'], axis = 1, inplace=True)"
   ]
  },
  {
   "cell_type": "code",
   "execution_count": 849,
   "metadata": {
    "collapsed": true
   },
   "outputs": [],
   "source": [
    "test_data.drop('hubpincode', inplace = True, axis  =1)"
   ]
  },
  {
   "cell_type": "code",
   "execution_count": 850,
   "metadata": {
    "collapsed": true
   },
   "outputs": [],
   "source": [
    "#test_data.drop(['pickuppartnerid','insuranceCompanyId'], inplace  =True, axis=1)"
   ]
  },
  {
   "cell_type": "code",
   "execution_count": 851,
   "metadata": {},
   "outputs": [
    {
     "data": {
      "text/plain": [
       "Index(['hubid', 'pickuppartnerid', 'deliverypartnerid', 'insuranceCompanyId',\n",
       "       'custpincode', 'servicecntrid', 'cat_claim', 'cat_custpincodecategory',\n",
       "       'cat_mobmake', 'claimintdate_month', 'pickupstartdate_month'],\n",
       "      dtype='object')"
      ]
     },
     "execution_count": 851,
     "metadata": {},
     "output_type": "execute_result"
    }
   ],
   "source": [
    "test_data.columns"
   ]
  },
  {
   "cell_type": "markdown",
   "metadata": {},
   "source": [
    "FINAL MODEL"
   ]
  },
  {
   "cell_type": "code",
   "execution_count": 852,
   "metadata": {
    "collapsed": true
   },
   "outputs": [],
   "source": [
    "new = data"
   ]
  },
  {
   "cell_type": "code",
   "execution_count": 853,
   "metadata": {},
   "outputs": [
    {
     "data": {
      "text/plain": [
       "array(['hubid', 'pickuppartnerid', 'deliverypartnerid',\n",
       "       'insuranceCompanyId', 'custpincode', 'servicecntrid',\n",
       "       'tat_in_days', 'cat_claim', 'cat_custpincodecategory',\n",
       "       'cat_mobmake', 'claimintdate_month', 'pickupstartdate_month'],\n",
       "      dtype=object)"
      ]
     },
     "execution_count": 853,
     "metadata": {},
     "output_type": "execute_result"
    }
   ],
   "source": [
    "#outliers\n",
    "cols = np.array(new.columns)\n",
    "cols"
   ]
  },
  {
   "cell_type": "code",
   "execution_count": 855,
   "metadata": {},
   "outputs": [
    {
     "data": {
      "image/png": "[encoded data removed]",
      "text/plain": [
       "<Figure size 432x288 with 1 Axes>"
      ]
     },
     "metadata": {},
     "output_type": "display_data"
    },
    {
     "data": {
      "image/png": "[encoded data removed]",
      "text/plain": [
       "<Figure size 432x288 with 1 Axes>"
      ]
     },
     "metadata": {},
     "output_type": "display_data"
    },
    {
     "data": {
      "image/png": "[encoded data removed]",
      "text/plain": [
       "<Figure size 432x288 with 1 Axes>"
      ]
     },
     "metadata": {},
     "output_type": "display_data"
    },
    {
     "data": {
      "image/png": "[encoded data removed]",
      "text/plain": [
       "<Figure size 432x288 with 1 Axes>"
      ]
     },
     "metadata": {},
     "output_type": "display_data"
    },
    {
     "data": {
      "image/png": "[encoded data removed]",
      "text/plain": [
       "<Figure size 432x288 with 1 Axes>"
      ]
     },
     "metadata": {},
     "output_type": "display_data"
    },
    {
     "data": {
      "image/png": "[encoded data removed]",
      "text/plain": [
       "<Figure size 432x288 with 1 Axes>"
      ]
     },
     "metadata": {},
     "output_type": "display_data"
    },
    {
     "data": {
      "image/png": "[encoded data removed]",
      "text/plain": [
       "<Figure size 432x288 with 1 Axes>"
      ]
     },
     "metadata": {},
     "output_type": "display_data"
    },
    {
     "data": {
      "image/png": "[encoded data removed]",
      "text/plain": [
       "<Figure size 432x288 with 1 Axes>"
      ]
     },
     "metadata": {},
     "output_type": "display_data"
    },
    {
     "data": {
      "image/png": "[encoded data removed]",
      "text/plain": [
       "<Figure size 432x288 with 1 Axes>"
      ]
     },
     "metadata": {},
     "output_type": "display_data"
    },
    {
     "data": {
      "image/png": "[encoded data removed]",
      "text/plain": [
       "<Figure size 432x288 with 1 Axes>"
      ]
     },
     "metadata": {},
     "output_type": "display_data"
    },
    {
     "data": {
      "image/png": "[encoded data removed]",
      "text/plain": [
       "<Figure size 432x288 with 1 Axes>"
      ]
     },
     "metadata": {},
     "output_type": "display_data"
    },
    {
     "data": {
      "image/png": "[encoded data removed]",
      "text/plain": [
       "<Figure size 432x288 with 1 Axes>"
      ]
     },
     "metadata": {},
     "output_type": "display_data"
    }
   ],
   "source": [
    "for i in range(len(cols)):\n",
    "    plt.boxplot(new[cols[i]])\n",
    "    plt.title(cols[i])\n",
    "    plt.show()"
   ]
  },
  {
   "cell_type": "code",
   "execution_count": 865,
   "metadata": {},
   "outputs": [
    {
     "name": "stdout",
     "output_type": "stream",
     "text": [
      "<class 'pandas.core.frame.DataFrame'>\n",
      "Int64Index: 4180 entries, 0 to 6248\n",
      "Data columns (total 12 columns):\n",
      "hubid                      4180 non-null int64\n",
      "pickuppartnerid            4180 non-null int64\n",
      "deliverypartnerid          4180 non-null int64\n",
      "insuranceCompanyId         4180 non-null int64\n",
      "custpincode                4180 non-null int64\n",
      "servicecntrid              4180 non-null int64\n",
      "tat_in_days                4180 non-null int64\n",
      "cat_claim                  4180 non-null int64\n",
      "cat_custpincodecategory    4180 non-null int64\n",
      "cat_mobmake                4180 non-null int64\n",
      "claimintdate_month         4180 non-null int64\n",
      "pickupstartdate_month      4180 non-null int64\n",
      "dtypes: int64(12)\n",
      "memory usage: 424.5 KB\n"
     ]
    }
   ],
   "source": [
    "new = new[(new['pickuppartnerid'] < 250) & (new['pickuppartnerid'] > 210)]\n",
    "new = new[(new['deliverypartnerid'] > 150)]\n",
    "new = new[(new['insuranceCompanyId'] < 200)]\n",
    "new = new[new['cat_claim'] > 0.2]\n",
    "new = new[new['cat_custpincodecategory'] < 3.5]\n",
    "new.info()"
   ]
  },
  {
   "cell_type": "code",
   "execution_count": 866,
   "metadata": {},
   "outputs": [
    {
     "data": {
      "text/plain": [
       "Index(['hubid', 'pickuppartnerid', 'deliverypartnerid', 'insuranceCompanyId',\n",
       "       'custpincode', 'servicecntrid', 'tat_in_days', 'cat_claim',\n",
       "       'cat_custpincodecategory', 'cat_mobmake', 'claimintdate_month',\n",
       "       'pickupstartdate_month'],\n",
       "      dtype='object')"
      ]
     },
     "execution_count": 866,
     "metadata": {},
     "output_type": "execute_result"
    }
   ],
   "source": [
    "new.columns"
   ]
  },
  {
   "cell_type": "code",
   "execution_count": 867,
   "metadata": {},
   "outputs": [],
   "source": [
    "X_new = new.iloc[:,[0,1,2,3,4,5,7,8,9,10,11]].values\n",
    "y_new = new.iloc[:,6].values"
   ]
  },
  {
   "cell_type": "code",
   "execution_count": 868,
   "metadata": {},
   "outputs": [
    {
     "data": {
      "text/plain": [
       "((3135, 11), (1045, 11), (3135,), (1045,))"
      ]
     },
     "execution_count": 868,
     "metadata": {},
     "output_type": "execute_result"
    }
   ],
   "source": [
    "X_train, X_test, y_train, y_test = train_test_split(X_new, y_new, test_size = 0.25, random_state = 0)\n",
    "X_train.shape, X_test.shape, y_train.shape, y_test.shape"
   ]
  },
  {
   "cell_type": "code",
   "execution_count": 869,
   "metadata": {},
   "outputs": [
    {
     "name": "stdout",
     "output_type": "stream",
     "text": [
      "LINEAR REGRESSION : \n",
      "  TEST SET ERROR :  4.427912788426541\n",
      "  TRAINING SET ERROR :  4.633929958749142\n",
      "POLYNOMIAL REGRESSION WITH DEGREE 2 : \n",
      "  TEST SET ERROR :  4.234812613769897\n",
      "POLYNOMIAL REGRESSION WITH DEGREE 3 : \n",
      "  TEST SET ERROR :  4.346136351991047\n",
      "1   DECISION TREE REGRESSION  :  4.598767801518628\n",
      "  DECISION TREE TRAINING SET ERROR :  4.797219014573903\n",
      "Cross Validation Accuracy: 0.04 (+/- 0.04)\n",
      "2   DECISION TREE REGRESSION  :  4.453758844272245\n",
      "  DECISION TREE TRAINING SET ERROR :  4.639239701998208\n",
      "Cross Validation Accuracy: 0.10 (+/- 0.08)\n",
      "3   DECISION TREE REGRESSION  :  4.252106553917694\n",
      "  DECISION TREE TRAINING SET ERROR :  4.504786286068896\n",
      "Cross Validation Accuracy: 0.15 (+/- 0.08)\n",
      "4   DECISION TREE REGRESSION  :  4.211057058244301\n",
      "  DECISION TREE TRAINING SET ERROR :  4.373724357449732\n",
      "Cross Validation Accuracy: 0.16 (+/- 0.07)\n",
      "5   DECISION TREE REGRESSION  :  4.123282898772526\n",
      "  DECISION TREE TRAINING SET ERROR :  4.270766624046709\n",
      "Cross Validation Accuracy: 0.16 (+/- 0.10)\n",
      "6   DECISION TREE REGRESSION  :  4.138978613466282\n",
      "  DECISION TREE TRAINING SET ERROR :  4.147553204686045\n",
      "Cross Validation Accuracy: 0.16 (+/- 0.12)\n",
      "7   DECISION TREE REGRESSION  :  4.329346143545804\n",
      "  DECISION TREE TRAINING SET ERROR :  4.011668132312992\n",
      "Cross Validation Accuracy: 0.13 (+/- 0.11)\n",
      "8   DECISION TREE REGRESSION  :  4.44462921314899\n",
      "  DECISION TREE TRAINING SET ERROR :  3.808064347199851\n",
      "Cross Validation Accuracy: 0.07 (+/- 0.15)\n",
      "9   DECISION TREE REGRESSION  :  4.489227074439541\n",
      "  DECISION TREE TRAINING SET ERROR :  3.6317827677854435\n",
      "Cross Validation Accuracy: 0.02 (+/- 0.20)\n",
      "10   DECISION TREE REGRESSION  :  4.6477530686983926\n",
      "  DECISION TREE TRAINING SET ERROR :  3.4931715258714693\n",
      "Cross Validation Accuracy: -0.02 (+/- 0.22)\n",
      "11   DECISION TREE REGRESSION  :  4.740006573413032\n",
      "  DECISION TREE TRAINING SET ERROR :  3.31657065573418\n",
      "Cross Validation Accuracy: -0.07 (+/- 0.23)\n",
      "12   DECISION TREE REGRESSION  :  4.795714995305548\n",
      "  DECISION TREE TRAINING SET ERROR :  3.105936175973634\n",
      "Cross Validation Accuracy: -0.12 (+/- 0.23)\n",
      "13   DECISION TREE REGRESSION  :  4.883501144336386\n",
      "  DECISION TREE TRAINING SET ERROR :  2.9041351814992646\n",
      "Cross Validation Accuracy: -0.15 (+/- 0.24)\n",
      "14   DECISION TREE REGRESSION  :  4.98836285978868\n",
      "  DECISION TREE TRAINING SET ERROR :  2.6659219370784903\n",
      "Cross Validation Accuracy: -0.22 (+/- 0.23)\n"
     ]
    }
   ],
   "source": [
    "regression_rmse(X_train, X_test, y_train, y_test)"
   ]
  },
  {
   "cell_type": "code",
   "execution_count": 870,
   "metadata": {},
   "outputs": [
    {
     "name": "stdout",
     "output_type": "stream",
     "text": [
      "4   DECISION TREE REGRESSION  :  4.211057058244301\n",
      "  DECISION TREE TRAINING SET ERROR :  4.373724357449732\n"
     ]
    }
   ],
   "source": [
    "dt = DecisionTreeRegressor(random_state = 0, max_depth =4)\n",
    "dt.fit(X_train, y_train)\n",
    "y_pred4 = dt.predict(X_test)\n",
    "print(4, \"  DECISION TREE REGRESSION  : \", rmse(y_pred4, y_test))\n",
    "print(\"  DECISION TREE TRAINING SET ERROR : \", rmse(dt.predict(X_train), y_train))"
   ]
  },
  {
   "cell_type": "code",
   "execution_count": 871,
   "metadata": {},
   "outputs": [
    {
     "data": {
      "text/plain": [
       "array([11.20297556, 13.28975265, 14.73846154, ..., 15.65420561,\n",
       "       11.20297556, 13.7672956 ])"
      ]
     },
     "execution_count": 871,
     "metadata": {},
     "output_type": "execute_result"
    }
   ],
   "source": [
    "predictions_new = dt.predict(test_data)\n",
    "predictions_new"
   ]
  },
  {
   "cell_type": "code",
   "execution_count": 872,
   "metadata": {
    "collapsed": true
   },
   "outputs": [],
   "source": [
    "df = pd.DataFrame(predictions_new)"
   ]
  },
  {
   "cell_type": "code",
   "execution_count": 873,
   "metadata": {
    "collapsed": true
   },
   "outputs": [],
   "source": [
    "df.to_csv(\"predictions_question2_new.csv\", sep=\",\", index = False, header = False)"
   ]
  }
 ],
 "metadata": {
  "kernelspec": {
   "display_name": "Python 3",
   "language": "python",
   "name": "python3"
  },
  "language_info": {
   "codemirror_mode": {
    "name": "ipython",
    "version": 3
   },
   "file_extension": ".py",
   "mimetype": "text/x-python",
   "name": "python",
   "nbconvert_exporter": "python",
   "pygments_lexer": "ipython3",
   "version": "3.6.3"
  }
 },
 "nbformat": 4,
 "nbformat_minor": 2
}
